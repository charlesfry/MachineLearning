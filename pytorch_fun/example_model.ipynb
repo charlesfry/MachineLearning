{
 "cells": [
  {
   "cell_type": "code",
   "execution_count": 1,
   "metadata": {
    "ExecuteTime": {
     "end_time": "2021-07-10T23:09:51.756254Z",
     "start_time": "2021-07-10T23:09:51.073221Z"
    }
   },
   "outputs": [
    {
     "name": "stderr",
     "output_type": "stream",
     "text": [
      "C:\\ProgramData\\Miniconda3\\lib\\site-packages\\torchaudio\\extension\\extension.py:14: UserWarning: torchaudio C++ extension is not available.\n",
      "  warnings.warn('torchaudio C++ extension is not available.')\n",
      "C:\\ProgramData\\Miniconda3\\lib\\site-packages\\torchaudio\\backend\\utils.py:63: UserWarning: The interface of \"soundfile\" backend is planned to change in 0.8.0 to match that of \"sox_io\" backend and the current interface will be removed in 0.9.0. To use the new interface, do `torchaudio.USE_SOUNDFILE_LEGACY_INTERFACE = False` before setting the backend to \"soundfile\". Please refer to https://github.com/pytorch/audio/issues/903 for the detail.\n",
      "  warnings.warn(\n"
     ]
    }
   ],
   "source": [
    "import torch\n",
    "import torchvision\n",
    "from torchvision import transforms \n",
    "import torchaudio\n",
    "from torch import nn\n",
    "from torch import optim\n",
    "from torch.nn import functional as f\n",
    "from torch.nn import functional as F\n",
    "from torchviz import make_dot\n",
    "import matplotlib.pyplot as plt\n",
    "import numpy as np\n",
    "import pandas as pd\n",
    "torchaudio.USE_SOUNDFILE_LEGACY_INTERFACE = False\n",
    "np.random.seed(seed:=69)\n",
    "torch.manual_seed(seed)\n",
    "device = 'cuda:0' if torch.cuda.is_available() else 'cpu'"
   ]
  },
  {
   "cell_type": "code",
   "execution_count": 2,
   "metadata": {
    "ExecuteTime": {
     "end_time": "2021-07-10T23:09:51.771286Z",
     "start_time": "2021-07-10T23:09:51.757256Z"
    }
   },
   "outputs": [
    {
     "data": {
      "text/plain": [
       "tensor([[1., 1.],\n",
       "        [1., 1.]], requires_grad=True)"
      ]
     },
     "execution_count": 2,
     "metadata": {},
     "output_type": "execute_result"
    }
   ],
   "source": [
    "x = torch.ones(2, 2, requires_grad=True)\n",
    "x"
   ]
  },
  {
   "cell_type": "code",
   "execution_count": 3,
   "metadata": {
    "ExecuteTime": {
     "end_time": "2021-07-10T23:09:51.787253Z",
     "start_time": "2021-07-10T23:09:51.772255Z"
    }
   },
   "outputs": [
    {
     "data": {
      "text/plain": [
       "tensor([[3., 3.],\n",
       "        [3., 3.]], grad_fn=<AddBackward0>)"
      ]
     },
     "execution_count": 3,
     "metadata": {},
     "output_type": "execute_result"
    }
   ],
   "source": [
    "y = x + 2\n",
    "y"
   ]
  },
  {
   "cell_type": "code",
   "execution_count": 4,
   "metadata": {
    "ExecuteTime": {
     "end_time": "2021-07-10T23:09:51.802254Z",
     "start_time": "2021-07-10T23:09:51.788256Z"
    }
   },
   "outputs": [
    {
     "data": {
      "text/plain": [
       "<AddBackward0 at 0x1f3a8a069d0>"
      ]
     },
     "execution_count": 4,
     "metadata": {},
     "output_type": "execute_result"
    }
   ],
   "source": [
    "y.grad_fn"
   ]
  },
  {
   "cell_type": "code",
   "execution_count": 5,
   "metadata": {
    "ExecuteTime": {
     "end_time": "2021-07-10T23:09:51.818283Z",
     "start_time": "2021-07-10T23:09:51.803254Z"
    }
   },
   "outputs": [],
   "source": [
    "class Net(nn.Module):\n",
    "    \n",
    "    def __init__(self):\n",
    "        super(Net, self).__init__()\n",
    "        self.conv1 = nn.Conv2d(1, 6, 3)\n",
    "        self.conv2 = nn.Conv2d(6, 16, 3)\n",
    "        # an affine operation y = Wx + b\n",
    "        self.fc1 = nn.Linear(16 * 6 * 6, 120)\n",
    "        self.fc2 = nn.Linear(120, 84)\n",
    "        self.fc3 = nn.Linear(84, 10)\n",
    "    \n",
    "    def forward(self, x):\n",
    "        # max pool over a (2, 2) kernel\n",
    "        x = f.max_pool2d(f.relu(self.conv1(x)), (2, 2))\n",
    "        # if the size is a square you can specify a single number instead\n",
    "        x = f.max_pool2d(f.relu(self.conv2(x)), 2)\n",
    "        x = x.view(-1, self.num_flat_features(x))\n",
    "        x = f.relu(self.fc1(x))\n",
    "        x = f.relu(self.fc2(x))\n",
    "        x = self.fc3(x)\n",
    "        return x\n",
    "    \n",
    "    def num_flat_features(self, x):\n",
    "        size = x.size()[1:] # all dims except batch dim\n",
    "        num_features = 1\n",
    "        for s in size:\n",
    "            num_features *= s\n",
    "        return num_features"
   ]
  },
  {
   "cell_type": "code",
   "execution_count": 6,
   "metadata": {
    "ExecuteTime": {
     "end_time": "2021-07-10T23:09:54.682946Z",
     "start_time": "2021-07-10T23:09:51.819285Z"
    }
   },
   "outputs": [
    {
     "name": "stdout",
     "output_type": "stream",
     "text": [
      "param size: 10\n",
      "param shape: torch.Size([6, 1, 3, 3])\n"
     ]
    }
   ],
   "source": [
    "net = Net()\n",
    "net.to(device)\n",
    "params = list(net.parameters())\n",
    "param_size = len(params)\n",
    "\n",
    "print(f'param size: {param_size}\\nparam shape: {params[0].size()}')"
   ]
  },
  {
   "cell_type": "code",
   "execution_count": 7,
   "metadata": {
    "ExecuteTime": {
     "end_time": "2021-07-10T23:09:56.689318Z",
     "start_time": "2021-07-10T23:09:54.685921Z"
    }
   },
   "outputs": [
    {
     "data": {
      "text/plain": [
       "tensor([[ 0.0206, -0.0915,  0.0910,  0.0920,  0.1092,  0.0552, -0.0146,  0.0892,\n",
       "          0.0047, -0.0092]], device='cuda:0', grad_fn=<AddmmBackward>)"
      ]
     },
     "execution_count": 7,
     "metadata": {},
     "output_type": "execute_result"
    }
   ],
   "source": [
    "input = torch.randn(1, 1, 32, 32).to(device)\n",
    "out = net(input)\n",
    "out"
   ]
  },
  {
   "cell_type": "code",
   "execution_count": 8,
   "metadata": {
    "ExecuteTime": {
     "end_time": "2021-07-10T23:09:56.875409Z",
     "start_time": "2021-07-10T23:09:56.691295Z"
    }
   },
   "outputs": [],
   "source": [
    "net.zero_grad()\n",
    "out.backward(torch.randn(1, 10).to(device))"
   ]
  },
  {
   "cell_type": "code",
   "execution_count": 9,
   "metadata": {
    "ExecuteTime": {
     "end_time": "2021-07-10T23:09:56.890599Z",
     "start_time": "2021-07-10T23:09:56.876405Z"
    }
   },
   "outputs": [],
   "source": [
    "# torch.nn only supports mini-batches. The entire torch.nn package only supports inputs that are a mini-batch of samples, and not a single sample.\n",
    "# For example, nn.Conv2d will take in a 4D Tensor of nSamples x nChannels x Height x Width.\n",
    "# If you have a single sample, just use input.unsqueeze(0) to add a fake batch dimension."
   ]
  },
  {
   "cell_type": "code",
   "execution_count": 10,
   "metadata": {
    "ExecuteTime": {
     "end_time": "2021-07-10T23:09:56.906598Z",
     "start_time": "2021-07-10T23:09:56.891508Z"
    }
   },
   "outputs": [
    {
     "name": "stdout",
     "output_type": "stream",
     "text": [
      "tensor(0.5434, device='cuda:0', grad_fn=<MseLossBackward>)\n"
     ]
    }
   ],
   "source": [
    "output = net(input)\n",
    "target = torch.randn(10).to(device) # dummy target\n",
    "target = target.view(1, -1)\n",
    "criterion = nn.MSELoss()\n",
    "loss = criterion(output, target)\n",
    "print(loss)"
   ]
  },
  {
   "cell_type": "code",
   "execution_count": 11,
   "metadata": {
    "ExecuteTime": {
     "end_time": "2021-07-10T23:09:56.922507Z",
     "start_time": "2021-07-10T23:09:56.907510Z"
    }
   },
   "outputs": [
    {
     "name": "stdout",
     "output_type": "stream",
     "text": [
      "<MseLossBackward object at 0x000001F3AD21F8B0>\n"
     ]
    }
   ],
   "source": [
    "print(loss.grad_fn)"
   ]
  },
  {
   "cell_type": "code",
   "execution_count": 12,
   "metadata": {
    "ExecuteTime": {
     "end_time": "2021-07-10T23:09:56.938510Z",
     "start_time": "2021-07-10T23:09:56.923534Z"
    }
   },
   "outputs": [
    {
     "name": "stdout",
     "output_type": "stream",
     "text": [
      "conv1.bias.grad before backward: tensor([0., 0., 0., 0., 0., 0.], device='cuda:0')\n",
      "conv1.bias.grad after: tensor([-0.0019,  0.0036,  0.0076, -0.0056,  0.0042,  0.0076], device='cuda:0')\n"
     ]
    }
   ],
   "source": [
    "net.zero_grad()     # zeroes the gradient buffers of all parameters\n",
    "print(f'conv1.bias.grad before backward: {net.conv1.bias.grad}')\n",
    "loss.backward()\n",
    "print(f'conv1.bias.grad after: {net.conv1.bias.grad}')"
   ]
  },
  {
   "cell_type": "code",
   "execution_count": 13,
   "metadata": {
    "ExecuteTime": {
     "end_time": "2021-07-10T23:09:56.953535Z",
     "start_time": "2021-07-10T23:09:56.939508Z"
    }
   },
   "outputs": [],
   "source": [
    "learning_rate = 0.01\n",
    "# manual calculation:\n",
    "# for f in net.parameters():\n",
    "#     f.data.sub_(f.grad.data * learning_rate)\n",
    "\n",
    "# for prepackaged calculation:\n",
    "optimizer = optim.Adam(net.parameters(), lr=learning_rate)\n",
    "\n",
    "# put in training loop:\n",
    "optimizer.zero_grad()\n",
    "output = net(input)\n",
    "loss = criterion(output, target) # criterion is a loss function\n",
    "loss.backward()\n",
    "optimizer.step()"
   ]
  },
  {
   "cell_type": "code",
   "execution_count": 14,
   "metadata": {
    "ExecuteTime": {
     "end_time": "2021-07-10T23:09:57.296539Z",
     "start_time": "2021-07-10T23:09:56.954507Z"
    }
   },
   "outputs": [
    {
     "data": {
      "image/svg+xml": [
       "<?xml version=\"1.0\" encoding=\"UTF-8\" standalone=\"no\"?>\r\n",
       "<!DOCTYPE svg PUBLIC \"-//W3C//DTD SVG 1.1//EN\"\r\n",
       " \"http://www.w3.org/Graphics/SVG/1.1/DTD/svg11.dtd\">\r\n",
       "<!-- Generated by graphviz version 2.44.1 (20200629.0846)\r\n",
       " -->\r\n",
       "<!-- Pages: 1 -->\r\n",
       "<svg width=\"468pt\" height=\"864pt\"\r\n",
       " viewBox=\"0.00 0.00 468.35 864.00\" xmlns=\"http://www.w3.org/2000/svg\" xmlns:xlink=\"http://www.w3.org/1999/xlink\">\r\n",
       "<g id=\"graph0\" class=\"graph\" transform=\"scale(0.92 0.92) rotate(0) translate(4 935)\">\r\n",
       "<polygon fill=\"white\" stroke=\"transparent\" points=\"-4,4 -4,-935 505,-935 505,4 -4,4\"/>\r\n",
       "<!-- 2146093364848 -->\r\n",
       "<g id=\"node1\" class=\"node\">\r\n",
       "<title>2146093364848</title>\r\n",
       "<polygon fill=\"#caff70\" stroke=\"black\" points=\"388,-21 287,-21 287,0 388,0 388,-21\"/>\r\n",
       "<text text-anchor=\"middle\" x=\"337.5\" y=\"-7.4\" font-family=\"Times New Roman,serif\" font-size=\"12.00\">AddmmBackward</text>\r\n",
       "</g>\r\n",
       "<!-- 2146093367056 -->\r\n",
       "<g id=\"node2\" class=\"node\">\r\n",
       "<title>2146093367056</title>\r\n",
       "<polygon fill=\"lightblue\" stroke=\"black\" points=\"274.5,-92 220.5,-92 220.5,-57 274.5,-57 274.5,-92\"/>\r\n",
       "<text text-anchor=\"middle\" x=\"247.5\" y=\"-64.4\" font-family=\"Times New Roman,serif\" font-size=\"12.00\"> (10)</text>\r\n",
       "</g>\r\n",
       "<!-- 2146093367056&#45;&gt;2146093364848 -->\r\n",
       "<g id=\"edge1\" class=\"edge\">\r\n",
       "<title>2146093367056&#45;&gt;2146093364848</title>\r\n",
       "<path fill=\"none\" stroke=\"black\" d=\"M271.62,-56.89C285.16,-47.56 301.93,-36 315.17,-26.88\"/>\r\n",
       "<polygon fill=\"black\" stroke=\"black\" points=\"317.43,-29.57 323.68,-21.02 313.46,-23.81 317.43,-29.57\"/>\r\n",
       "</g>\r\n",
       "<!-- 2146093365136 -->\r\n",
       "<g id=\"node3\" class=\"node\">\r\n",
       "<title>2146093365136</title>\r\n",
       "<polygon fill=\"lightgrey\" stroke=\"black\" points=\"382.5,-85 292.5,-85 292.5,-64 382.5,-64 382.5,-85\"/>\r\n",
       "<text text-anchor=\"middle\" x=\"337.5\" y=\"-71.4\" font-family=\"Times New Roman,serif\" font-size=\"12.00\">ReluBackward0</text>\r\n",
       "</g>\r\n",
       "<!-- 2146093365136&#45;&gt;2146093364848 -->\r\n",
       "<g id=\"edge2\" class=\"edge\">\r\n",
       "<title>2146093365136&#45;&gt;2146093364848</title>\r\n",
       "<path fill=\"none\" stroke=\"black\" d=\"M337.5,-63.81C337.5,-55.22 337.5,-42.39 337.5,-31.59\"/>\r\n",
       "<polygon fill=\"black\" stroke=\"black\" points=\"341,-31.32 337.5,-21.32 334,-31.32 341,-31.32\"/>\r\n",
       "</g>\r\n",
       "<!-- 2146093365376 -->\r\n",
       "<g id=\"node4\" class=\"node\">\r\n",
       "<title>2146093365376</title>\r\n",
       "<polygon fill=\"lightgrey\" stroke=\"black\" points=\"388,-156 287,-156 287,-135 388,-135 388,-156\"/>\r\n",
       "<text text-anchor=\"middle\" x=\"337.5\" y=\"-142.4\" font-family=\"Times New Roman,serif\" font-size=\"12.00\">AddmmBackward</text>\r\n",
       "</g>\r\n",
       "<!-- 2146093365376&#45;&gt;2146093365136 -->\r\n",
       "<g id=\"edge3\" class=\"edge\">\r\n",
       "<title>2146093365376&#45;&gt;2146093365136</title>\r\n",
       "<path fill=\"none\" stroke=\"black\" d=\"M337.5,-134.91C337.5,-124.71 337.5,-108.3 337.5,-95.31\"/>\r\n",
       "<polygon fill=\"black\" stroke=\"black\" points=\"341,-95.01 337.5,-85.01 334,-95.01 341,-95.01\"/>\r\n",
       "</g>\r\n",
       "<!-- 2146093365280 -->\r\n",
       "<g id=\"node5\" class=\"node\">\r\n",
       "<title>2146093365280</title>\r\n",
       "<polygon fill=\"lightblue\" stroke=\"black\" points=\"274.5,-234 220.5,-234 220.5,-199 274.5,-199 274.5,-234\"/>\r\n",
       "<text text-anchor=\"middle\" x=\"247.5\" y=\"-206.4\" font-family=\"Times New Roman,serif\" font-size=\"12.00\"> (84)</text>\r\n",
       "</g>\r\n",
       "<!-- 2146093365280&#45;&gt;2146093365376 -->\r\n",
       "<g id=\"edge4\" class=\"edge\">\r\n",
       "<title>2146093365280&#45;&gt;2146093365376</title>\r\n",
       "<path fill=\"none\" stroke=\"black\" d=\"M269.29,-198.8C283.76,-187.7 302.65,-173.22 316.88,-162.31\"/>\r\n",
       "<polygon fill=\"black\" stroke=\"black\" points=\"319.25,-164.9 325.06,-156.04 314.99,-159.35 319.25,-164.9\"/>\r\n",
       "</g>\r\n",
       "<!-- 2146093364416 -->\r\n",
       "<g id=\"node6\" class=\"node\">\r\n",
       "<title>2146093364416</title>\r\n",
       "<polygon fill=\"lightgrey\" stroke=\"black\" points=\"382.5,-227 292.5,-227 292.5,-206 382.5,-206 382.5,-227\"/>\r\n",
       "<text text-anchor=\"middle\" x=\"337.5\" y=\"-213.4\" font-family=\"Times New Roman,serif\" font-size=\"12.00\">ReluBackward0</text>\r\n",
       "</g>\r\n",
       "<!-- 2146093364416&#45;&gt;2146093365376 -->\r\n",
       "<g id=\"edge5\" class=\"edge\">\r\n",
       "<title>2146093364416&#45;&gt;2146093365376</title>\r\n",
       "<path fill=\"none\" stroke=\"black\" d=\"M337.5,-205.91C337.5,-195.71 337.5,-179.3 337.5,-166.31\"/>\r\n",
       "<polygon fill=\"black\" stroke=\"black\" points=\"341,-166.01 337.5,-156.01 334,-166.01 341,-166.01\"/>\r\n",
       "</g>\r\n",
       "<!-- 2146093366816 -->\r\n",
       "<g id=\"node7\" class=\"node\">\r\n",
       "<title>2146093366816</title>\r\n",
       "<polygon fill=\"lightgrey\" stroke=\"black\" points=\"387,-298 286,-298 286,-277 387,-277 387,-298\"/>\r\n",
       "<text text-anchor=\"middle\" x=\"336.5\" y=\"-284.4\" font-family=\"Times New Roman,serif\" font-size=\"12.00\">AddmmBackward</text>\r\n",
       "</g>\r\n",
       "<!-- 2146093366816&#45;&gt;2146093364416 -->\r\n",
       "<g id=\"edge6\" class=\"edge\">\r\n",
       "<title>2146093366816&#45;&gt;2146093364416</title>\r\n",
       "<path fill=\"none\" stroke=\"black\" d=\"M336.64,-276.91C336.79,-266.71 337.02,-250.3 337.21,-237.31\"/>\r\n",
       "<polygon fill=\"black\" stroke=\"black\" points=\"340.72,-237.06 337.36,-227.01 333.72,-236.96 340.72,-237.06\"/>\r\n",
       "</g>\r\n",
       "<!-- 2146093366624 -->\r\n",
       "<g id=\"node8\" class=\"node\">\r\n",
       "<title>2146093366624</title>\r\n",
       "<polygon fill=\"lightblue\" stroke=\"black\" points=\"274.5,-376 220.5,-376 220.5,-341 274.5,-341 274.5,-376\"/>\r\n",
       "<text text-anchor=\"middle\" x=\"247.5\" y=\"-348.4\" font-family=\"Times New Roman,serif\" font-size=\"12.00\"> (120)</text>\r\n",
       "</g>\r\n",
       "<!-- 2146093366624&#45;&gt;2146093366816 -->\r\n",
       "<g id=\"edge7\" class=\"edge\">\r\n",
       "<title>2146093366624&#45;&gt;2146093366816</title>\r\n",
       "<path fill=\"none\" stroke=\"black\" d=\"M269.04,-340.8C283.36,-329.7 302.04,-315.22 316.11,-304.31\"/>\r\n",
       "<polygon fill=\"black\" stroke=\"black\" points=\"318.44,-306.93 324.2,-298.04 314.15,-301.4 318.44,-306.93\"/>\r\n",
       "</g>\r\n",
       "<!-- 2146093365904 -->\r\n",
       "<g id=\"node9\" class=\"node\">\r\n",
       "<title>2146093365904</title>\r\n",
       "<polygon fill=\"lightgrey\" stroke=\"black\" points=\"380.5,-369 292.5,-369 292.5,-348 380.5,-348 380.5,-369\"/>\r\n",
       "<text text-anchor=\"middle\" x=\"336.5\" y=\"-355.4\" font-family=\"Times New Roman,serif\" font-size=\"12.00\">ViewBackward</text>\r\n",
       "</g>\r\n",
       "<!-- 2146093365904&#45;&gt;2146093366816 -->\r\n",
       "<g id=\"edge8\" class=\"edge\">\r\n",
       "<title>2146093365904&#45;&gt;2146093366816</title>\r\n",
       "<path fill=\"none\" stroke=\"black\" d=\"M336.5,-347.91C336.5,-337.71 336.5,-321.3 336.5,-308.31\"/>\r\n",
       "<polygon fill=\"black\" stroke=\"black\" points=\"340,-308.01 336.5,-298.01 333,-308.01 340,-308.01\"/>\r\n",
       "</g>\r\n",
       "<!-- 2146093417376 -->\r\n",
       "<g id=\"node10\" class=\"node\">\r\n",
       "<title>2146093417376</title>\r\n",
       "<polygon fill=\"lightgrey\" stroke=\"black\" points=\"413.5,-440 239.5,-440 239.5,-419 413.5,-419 413.5,-440\"/>\r\n",
       "<text text-anchor=\"middle\" x=\"326.5\" y=\"-426.4\" font-family=\"Times New Roman,serif\" font-size=\"12.00\">MaxPool2DWithIndicesBackward</text>\r\n",
       "</g>\r\n",
       "<!-- 2146093417376&#45;&gt;2146093365904 -->\r\n",
       "<g id=\"edge9\" class=\"edge\">\r\n",
       "<title>2146093417376&#45;&gt;2146093365904</title>\r\n",
       "<path fill=\"none\" stroke=\"black\" d=\"M327.89,-418.91C329.38,-408.61 331.79,-391.97 333.69,-378.92\"/>\r\n",
       "<polygon fill=\"black\" stroke=\"black\" points=\"337.15,-379.41 335.12,-369.01 330.22,-378.41 337.15,-379.41\"/>\r\n",
       "</g>\r\n",
       "<!-- 2146093416704 -->\r\n",
       "<g id=\"node11\" class=\"node\">\r\n",
       "<title>2146093416704</title>\r\n",
       "<polygon fill=\"lightgrey\" stroke=\"black\" points=\"371.5,-504 281.5,-504 281.5,-483 371.5,-483 371.5,-504\"/>\r\n",
       "<text text-anchor=\"middle\" x=\"326.5\" y=\"-490.4\" font-family=\"Times New Roman,serif\" font-size=\"12.00\">ReluBackward0</text>\r\n",
       "</g>\r\n",
       "<!-- 2146093416704&#45;&gt;2146093417376 -->\r\n",
       "<g id=\"edge10\" class=\"edge\">\r\n",
       "<title>2146093416704&#45;&gt;2146093417376</title>\r\n",
       "<path fill=\"none\" stroke=\"black\" d=\"M326.5,-482.81C326.5,-474.22 326.5,-461.39 326.5,-450.59\"/>\r\n",
       "<polygon fill=\"black\" stroke=\"black\" points=\"330,-450.32 326.5,-440.32 323,-450.32 330,-450.32\"/>\r\n",
       "</g>\r\n",
       "<!-- 2146093416944 -->\r\n",
       "<g id=\"node12\" class=\"node\">\r\n",
       "<title>2146093416944</title>\r\n",
       "<polygon fill=\"lightgrey\" stroke=\"black\" points=\"371.5,-561 281.5,-561 281.5,-540 371.5,-540 371.5,-561\"/>\r\n",
       "<text text-anchor=\"middle\" x=\"326.5\" y=\"-547.4\" font-family=\"Times New Roman,serif\" font-size=\"12.00\">AddBackward0</text>\r\n",
       "</g>\r\n",
       "<!-- 2146093416944&#45;&gt;2146093416704 -->\r\n",
       "<g id=\"edge11\" class=\"edge\">\r\n",
       "<title>2146093416944&#45;&gt;2146093416704</title>\r\n",
       "<path fill=\"none\" stroke=\"black\" d=\"M326.5,-539.92C326.5,-532.91 326.5,-523.14 326.5,-514.47\"/>\r\n",
       "<polygon fill=\"black\" stroke=\"black\" points=\"330,-514.34 326.5,-504.34 323,-514.34 330,-514.34\"/>\r\n",
       "</g>\r\n",
       "<!-- 2146093417568 -->\r\n",
       "<g id=\"node13\" class=\"node\">\r\n",
       "<title>2146093417568</title>\r\n",
       "<polygon fill=\"lightgrey\" stroke=\"black\" points=\"333,-618 184,-618 184,-597 333,-597 333,-618\"/>\r\n",
       "<text text-anchor=\"middle\" x=\"258.5\" y=\"-604.4\" font-family=\"Times New Roman,serif\" font-size=\"12.00\">CudnnConvolutionBackward</text>\r\n",
       "</g>\r\n",
       "<!-- 2146093417568&#45;&gt;2146093416944 -->\r\n",
       "<g id=\"edge12\" class=\"edge\">\r\n",
       "<title>2146093417568&#45;&gt;2146093416944</title>\r\n",
       "<path fill=\"none\" stroke=\"black\" d=\"M270.34,-596.92C280.27,-588.9 294.64,-577.27 306.37,-567.78\"/>\r\n",
       "<polygon fill=\"black\" stroke=\"black\" points=\"308.76,-570.35 314.33,-561.34 304.36,-564.91 308.76,-570.35\"/>\r\n",
       "</g>\r\n",
       "<!-- 2146093417280 -->\r\n",
       "<g id=\"node14\" class=\"node\">\r\n",
       "<title>2146093417280</title>\r\n",
       "<polygon fill=\"lightgrey\" stroke=\"black\" points=\"229.5,-682 55.5,-682 55.5,-661 229.5,-661 229.5,-682\"/>\r\n",
       "<text text-anchor=\"middle\" x=\"142.5\" y=\"-668.4\" font-family=\"Times New Roman,serif\" font-size=\"12.00\">MaxPool2DWithIndicesBackward</text>\r\n",
       "</g>\r\n",
       "<!-- 2146093417280&#45;&gt;2146093417568 -->\r\n",
       "<g id=\"edge13\" class=\"edge\">\r\n",
       "<title>2146093417280&#45;&gt;2146093417568</title>\r\n",
       "<path fill=\"none\" stroke=\"black\" d=\"M160.37,-660.95C179.3,-650.83 209.43,-634.73 231.31,-623.03\"/>\r\n",
       "<polygon fill=\"black\" stroke=\"black\" points=\"233.25,-625.97 240.42,-618.16 229.95,-619.79 233.25,-625.97\"/>\r\n",
       "</g>\r\n",
       "<!-- 2146093416560 -->\r\n",
       "<g id=\"node15\" class=\"node\">\r\n",
       "<title>2146093416560</title>\r\n",
       "<polygon fill=\"lightgrey\" stroke=\"black\" points=\"187.5,-746 97.5,-746 97.5,-725 187.5,-725 187.5,-746\"/>\r\n",
       "<text text-anchor=\"middle\" x=\"142.5\" y=\"-732.4\" font-family=\"Times New Roman,serif\" font-size=\"12.00\">ReluBackward0</text>\r\n",
       "</g>\r\n",
       "<!-- 2146093416560&#45;&gt;2146093417280 -->\r\n",
       "<g id=\"edge14\" class=\"edge\">\r\n",
       "<title>2146093416560&#45;&gt;2146093417280</title>\r\n",
       "<path fill=\"none\" stroke=\"black\" d=\"M142.5,-724.81C142.5,-716.22 142.5,-703.39 142.5,-692.59\"/>\r\n",
       "<polygon fill=\"black\" stroke=\"black\" points=\"146,-692.32 142.5,-682.32 139,-692.32 146,-692.32\"/>\r\n",
       "</g>\r\n",
       "<!-- 2146093417664 -->\r\n",
       "<g id=\"node16\" class=\"node\">\r\n",
       "<title>2146093417664</title>\r\n",
       "<polygon fill=\"lightgrey\" stroke=\"black\" points=\"187.5,-803 97.5,-803 97.5,-782 187.5,-782 187.5,-803\"/>\r\n",
       "<text text-anchor=\"middle\" x=\"142.5\" y=\"-789.4\" font-family=\"Times New Roman,serif\" font-size=\"12.00\">AddBackward0</text>\r\n",
       "</g>\r\n",
       "<!-- 2146093417664&#45;&gt;2146093416560 -->\r\n",
       "<g id=\"edge15\" class=\"edge\">\r\n",
       "<title>2146093417664&#45;&gt;2146093416560</title>\r\n",
       "<path fill=\"none\" stroke=\"black\" d=\"M142.5,-781.92C142.5,-774.91 142.5,-765.14 142.5,-756.47\"/>\r\n",
       "<polygon fill=\"black\" stroke=\"black\" points=\"146,-756.34 142.5,-746.34 139,-756.34 146,-756.34\"/>\r\n",
       "</g>\r\n",
       "<!-- 2146093418048 -->\r\n",
       "<g id=\"node17\" class=\"node\">\r\n",
       "<title>2146093418048</title>\r\n",
       "<polygon fill=\"lightgrey\" stroke=\"black\" points=\"149,-860 0,-860 0,-839 149,-839 149,-860\"/>\r\n",
       "<text text-anchor=\"middle\" x=\"74.5\" y=\"-846.4\" font-family=\"Times New Roman,serif\" font-size=\"12.00\">CudnnConvolutionBackward</text>\r\n",
       "</g>\r\n",
       "<!-- 2146093418048&#45;&gt;2146093417664 -->\r\n",
       "<g id=\"edge16\" class=\"edge\">\r\n",
       "<title>2146093418048&#45;&gt;2146093417664</title>\r\n",
       "<path fill=\"none\" stroke=\"black\" d=\"M86.34,-838.92C96.27,-830.9 110.64,-819.27 122.37,-809.78\"/>\r\n",
       "<polygon fill=\"black\" stroke=\"black\" points=\"124.76,-812.35 130.33,-803.34 120.36,-806.91 124.76,-812.35\"/>\r\n",
       "</g>\r\n",
       "<!-- 2146093416992 -->\r\n",
       "<g id=\"node18\" class=\"node\">\r\n",
       "<title>2146093416992</title>\r\n",
       "<polygon fill=\"lightblue\" stroke=\"black\" points=\"109,-931 40,-931 40,-896 109,-896 109,-931\"/>\r\n",
       "<text text-anchor=\"middle\" x=\"74.5\" y=\"-903.4\" font-family=\"Times New Roman,serif\" font-size=\"12.00\"> (6, 1, 3, 3)</text>\r\n",
       "</g>\r\n",
       "<!-- 2146093416992&#45;&gt;2146093418048 -->\r\n",
       "<g id=\"edge17\" class=\"edge\">\r\n",
       "<title>2146093416992&#45;&gt;2146093418048</title>\r\n",
       "<path fill=\"none\" stroke=\"black\" d=\"M74.5,-895.89C74.5,-887.99 74.5,-878.5 74.5,-870.25\"/>\r\n",
       "<polygon fill=\"black\" stroke=\"black\" points=\"78,-870.02 74.5,-860.02 71,-870.02 78,-870.02\"/>\r\n",
       "</g>\r\n",
       "<!-- 2146093418000 -->\r\n",
       "<g id=\"node19\" class=\"node\">\r\n",
       "<title>2146093418000</title>\r\n",
       "<polygon fill=\"lightgrey\" stroke=\"black\" points=\"255.5,-860 167.5,-860 167.5,-839 255.5,-839 255.5,-860\"/>\r\n",
       "<text text-anchor=\"middle\" x=\"211.5\" y=\"-846.4\" font-family=\"Times New Roman,serif\" font-size=\"12.00\">ViewBackward</text>\r\n",
       "</g>\r\n",
       "<!-- 2146093418000&#45;&gt;2146093417664 -->\r\n",
       "<g id=\"edge18\" class=\"edge\">\r\n",
       "<title>2146093418000&#45;&gt;2146093417664</title>\r\n",
       "<path fill=\"none\" stroke=\"black\" d=\"M199.48,-838.92C189.41,-830.9 174.82,-819.27 162.93,-809.78\"/>\r\n",
       "<polygon fill=\"black\" stroke=\"black\" points=\"164.85,-806.84 154.85,-803.34 160.48,-812.31 164.85,-806.84\"/>\r\n",
       "</g>\r\n",
       "<!-- 2146093418144 -->\r\n",
       "<g id=\"node20\" class=\"node\">\r\n",
       "<title>2146093418144</title>\r\n",
       "<polygon fill=\"lightblue\" stroke=\"black\" points=\"238.5,-931 184.5,-931 184.5,-896 238.5,-896 238.5,-931\"/>\r\n",
       "<text text-anchor=\"middle\" x=\"211.5\" y=\"-903.4\" font-family=\"Times New Roman,serif\" font-size=\"12.00\"> (6)</text>\r\n",
       "</g>\r\n",
       "<!-- 2146093418144&#45;&gt;2146093418000 -->\r\n",
       "<g id=\"edge19\" class=\"edge\">\r\n",
       "<title>2146093418144&#45;&gt;2146093418000</title>\r\n",
       "<path fill=\"none\" stroke=\"black\" d=\"M211.5,-895.89C211.5,-887.99 211.5,-878.5 211.5,-870.25\"/>\r\n",
       "<polygon fill=\"black\" stroke=\"black\" points=\"215,-870.02 211.5,-860.02 208,-870.02 215,-870.02\"/>\r\n",
       "</g>\r\n",
       "<!-- 2146093417232 -->\r\n",
       "<g id=\"node21\" class=\"node\">\r\n",
       "<title>2146093417232</title>\r\n",
       "<polygon fill=\"lightblue\" stroke=\"black\" points=\"323,-689 248,-689 248,-654 323,-654 323,-689\"/>\r\n",
       "<text text-anchor=\"middle\" x=\"285.5\" y=\"-661.4\" font-family=\"Times New Roman,serif\" font-size=\"12.00\"> (16, 6, 3, 3)</text>\r\n",
       "</g>\r\n",
       "<!-- 2146093417232&#45;&gt;2146093417568 -->\r\n",
       "<g id=\"edge20\" class=\"edge\">\r\n",
       "<title>2146093417232&#45;&gt;2146093417568</title>\r\n",
       "<path fill=\"none\" stroke=\"black\" d=\"M278.26,-653.89C274.71,-645.72 270.41,-635.86 266.73,-627.41\"/>\r\n",
       "<polygon fill=\"black\" stroke=\"black\" points=\"269.85,-625.79 262.64,-618.02 263.43,-628.58 269.85,-625.79\"/>\r\n",
       "</g>\r\n",
       "<!-- 2146093417088 -->\r\n",
       "<g id=\"node22\" class=\"node\">\r\n",
       "<title>2146093417088</title>\r\n",
       "<polygon fill=\"lightgrey\" stroke=\"black\" points=\"439.5,-618 351.5,-618 351.5,-597 439.5,-597 439.5,-618\"/>\r\n",
       "<text text-anchor=\"middle\" x=\"395.5\" y=\"-604.4\" font-family=\"Times New Roman,serif\" font-size=\"12.00\">ViewBackward</text>\r\n",
       "</g>\r\n",
       "<!-- 2146093417088&#45;&gt;2146093416944 -->\r\n",
       "<g id=\"edge21\" class=\"edge\">\r\n",
       "<title>2146093417088&#45;&gt;2146093416944</title>\r\n",
       "<path fill=\"none\" stroke=\"black\" d=\"M383.48,-596.92C373.41,-588.9 358.82,-577.27 346.93,-567.78\"/>\r\n",
       "<polygon fill=\"black\" stroke=\"black\" points=\"348.85,-564.84 338.85,-561.34 344.48,-570.31 348.85,-564.84\"/>\r\n",
       "</g>\r\n",
       "<!-- 2146093417424 -->\r\n",
       "<g id=\"node23\" class=\"node\">\r\n",
       "<title>2146093417424</title>\r\n",
       "<polygon fill=\"lightblue\" stroke=\"black\" points=\"422.5,-689 368.5,-689 368.5,-654 422.5,-654 422.5,-689\"/>\r\n",
       "<text text-anchor=\"middle\" x=\"395.5\" y=\"-661.4\" font-family=\"Times New Roman,serif\" font-size=\"12.00\"> (16)</text>\r\n",
       "</g>\r\n",
       "<!-- 2146093417424&#45;&gt;2146093417088 -->\r\n",
       "<g id=\"edge22\" class=\"edge\">\r\n",
       "<title>2146093417424&#45;&gt;2146093417088</title>\r\n",
       "<path fill=\"none\" stroke=\"black\" d=\"M395.5,-653.89C395.5,-645.99 395.5,-636.5 395.5,-628.25\"/>\r\n",
       "<polygon fill=\"black\" stroke=\"black\" points=\"399,-628.02 395.5,-618.02 392,-628.02 399,-628.02\"/>\r\n",
       "</g>\r\n",
       "<!-- 2146093363504 -->\r\n",
       "<g id=\"node24\" class=\"node\">\r\n",
       "<title>2146093363504</title>\r\n",
       "<polygon fill=\"lightgrey\" stroke=\"black\" points=\"491,-369 420,-369 420,-348 491,-348 491,-369\"/>\r\n",
       "<text text-anchor=\"middle\" x=\"455.5\" y=\"-355.4\" font-family=\"Times New Roman,serif\" font-size=\"12.00\">TBackward</text>\r\n",
       "</g>\r\n",
       "<!-- 2146093363504&#45;&gt;2146093366816 -->\r\n",
       "<g id=\"edge23\" class=\"edge\">\r\n",
       "<title>2146093363504&#45;&gt;2146093366816</title>\r\n",
       "<path fill=\"none\" stroke=\"black\" d=\"M438.95,-347.91C418.97,-336.32 385.15,-316.71 361.87,-303.21\"/>\r\n",
       "<polygon fill=\"black\" stroke=\"black\" points=\"363.31,-300 352.91,-298.01 359.8,-306.06 363.31,-300\"/>\r\n",
       "</g>\r\n",
       "<!-- 2146093416656 -->\r\n",
       "<g id=\"node25\" class=\"node\">\r\n",
       "<title>2146093416656</title>\r\n",
       "<polygon fill=\"lightblue\" stroke=\"black\" points=\"501,-447 432,-447 432,-412 501,-412 501,-447\"/>\r\n",
       "<text text-anchor=\"middle\" x=\"466.5\" y=\"-419.4\" font-family=\"Times New Roman,serif\" font-size=\"12.00\"> (120, 576)</text>\r\n",
       "</g>\r\n",
       "<!-- 2146093416656&#45;&gt;2146093363504 -->\r\n",
       "<g id=\"edge24\" class=\"edge\">\r\n",
       "<title>2146093416656&#45;&gt;2146093363504</title>\r\n",
       "<path fill=\"none\" stroke=\"black\" d=\"M463.84,-411.8C462.27,-401.96 460.28,-389.45 458.63,-379.14\"/>\r\n",
       "<polygon fill=\"black\" stroke=\"black\" points=\"462.05,-378.36 457.02,-369.04 455.14,-379.47 462.05,-378.36\"/>\r\n",
       "</g>\r\n",
       "<!-- 2146093363408 -->\r\n",
       "<g id=\"node26\" class=\"node\">\r\n",
       "<title>2146093363408</title>\r\n",
       "<polygon fill=\"lightgrey\" stroke=\"black\" points=\"472,-227 401,-227 401,-206 472,-206 472,-227\"/>\r\n",
       "<text text-anchor=\"middle\" x=\"436.5\" y=\"-213.4\" font-family=\"Times New Roman,serif\" font-size=\"12.00\">TBackward</text>\r\n",
       "</g>\r\n",
       "<!-- 2146093363408&#45;&gt;2146093365376 -->\r\n",
       "<g id=\"edge25\" class=\"edge\">\r\n",
       "<title>2146093363408&#45;&gt;2146093365376</title>\r\n",
       "<path fill=\"none\" stroke=\"black\" d=\"M422.73,-205.91C406.33,-194.47 378.72,-175.23 359.38,-161.75\"/>\r\n",
       "<polygon fill=\"black\" stroke=\"black\" points=\"361.35,-158.86 351.15,-156.01 357.35,-164.6 361.35,-158.86\"/>\r\n",
       "</g>\r\n",
       "<!-- 2146093367104 -->\r\n",
       "<g id=\"node27\" class=\"node\">\r\n",
       "<title>2146093367104</title>\r\n",
       "<polygon fill=\"lightblue\" stroke=\"black\" points=\"468,-305 405,-305 405,-270 468,-270 468,-305\"/>\r\n",
       "<text text-anchor=\"middle\" x=\"436.5\" y=\"-277.4\" font-family=\"Times New Roman,serif\" font-size=\"12.00\"> (84, 120)</text>\r\n",
       "</g>\r\n",
       "<!-- 2146093367104&#45;&gt;2146093363408 -->\r\n",
       "<g id=\"edge26\" class=\"edge\">\r\n",
       "<title>2146093367104&#45;&gt;2146093363408</title>\r\n",
       "<path fill=\"none\" stroke=\"black\" d=\"M436.5,-269.8C436.5,-259.96 436.5,-247.45 436.5,-237.14\"/>\r\n",
       "<polygon fill=\"black\" stroke=\"black\" points=\"440,-237.04 436.5,-227.04 433,-237.04 440,-237.04\"/>\r\n",
       "</g>\r\n",
       "<!-- 2146093363840 -->\r\n",
       "<g id=\"node28\" class=\"node\">\r\n",
       "<title>2146093363840</title>\r\n",
       "<polygon fill=\"lightgrey\" stroke=\"black\" points=\"472,-85 401,-85 401,-64 472,-64 472,-85\"/>\r\n",
       "<text text-anchor=\"middle\" x=\"436.5\" y=\"-71.4\" font-family=\"Times New Roman,serif\" font-size=\"12.00\">TBackward</text>\r\n",
       "</g>\r\n",
       "<!-- 2146093363840&#45;&gt;2146093364848 -->\r\n",
       "<g id=\"edge27\" class=\"edge\">\r\n",
       "<title>2146093363840&#45;&gt;2146093364848</title>\r\n",
       "<path fill=\"none\" stroke=\"black\" d=\"M421.03,-63.81C405.05,-53.8 379.89,-38.05 361.36,-26.44\"/>\r\n",
       "<polygon fill=\"black\" stroke=\"black\" points=\"363.19,-23.46 352.86,-21.12 359.48,-29.39 363.19,-23.46\"/>\r\n",
       "</g>\r\n",
       "<!-- 2146093363984 -->\r\n",
       "<g id=\"node29\" class=\"node\">\r\n",
       "<title>2146093363984</title>\r\n",
       "<polygon fill=\"lightblue\" stroke=\"black\" points=\"465,-163 408,-163 408,-128 465,-128 465,-163\"/>\r\n",
       "<text text-anchor=\"middle\" x=\"436.5\" y=\"-135.4\" font-family=\"Times New Roman,serif\" font-size=\"12.00\"> (10, 84)</text>\r\n",
       "</g>\r\n",
       "<!-- 2146093363984&#45;&gt;2146093363840 -->\r\n",
       "<g id=\"edge28\" class=\"edge\">\r\n",
       "<title>2146093363984&#45;&gt;2146093363840</title>\r\n",
       "<path fill=\"none\" stroke=\"black\" d=\"M436.5,-127.8C436.5,-117.96 436.5,-105.45 436.5,-95.14\"/>\r\n",
       "<polygon fill=\"black\" stroke=\"black\" points=\"440,-95.04 436.5,-85.04 433,-95.04 440,-95.04\"/>\r\n",
       "</g>\r\n",
       "</g>\r\n",
       "</svg>\r\n"
      ],
      "text/plain": [
       "<graphviz.dot.Digraph at 0x1f3ad21f460>"
      ]
     },
     "execution_count": 14,
     "metadata": {},
     "output_type": "execute_result"
    }
   ],
   "source": [
    "make_dot(output)"
   ]
  },
  {
   "cell_type": "code",
   "execution_count": 15,
   "metadata": {
    "ExecuteTime": {
     "end_time": "2021-07-10T23:09:57.312508Z",
     "start_time": "2021-07-10T23:09:57.298510Z"
    }
   },
   "outputs": [],
   "source": [
    "transform = transforms.Compose(\n",
    "    [transforms.ToTensor(),\n",
    "    transforms.Normalize((.5,.5,.5), (.5,.5,.5))])"
   ]
  },
  {
   "cell_type": "code",
   "execution_count": 16,
   "metadata": {
    "ExecuteTime": {
     "end_time": "2021-07-10T23:09:58.993602Z",
     "start_time": "2021-07-10T23:09:57.314510Z"
    }
   },
   "outputs": [
    {
     "name": "stdout",
     "output_type": "stream",
     "text": [
      "Files already downloaded and verified\n",
      "Files already downloaded and verified\n"
     ]
    }
   ],
   "source": [
    "root = 'E:\\Vision'\n",
    "batch_size = 4\n",
    "trainset = torchvision.datasets.CIFAR10(root=root, train=True, download=True, transform=transform)\n",
    "trainloader = torch.utils.data.DataLoader(trainset, batch_size=batch_size, shuffle=True, num_workers=2)\n",
    "testset = torchvision.datasets.CIFAR10(root=root, train=False, download=True, transform=transform)\n",
    "testloader = torch.utils.data.DataLoader(testset, batch_size=batch_size, shuffle=False, num_workers=2)\n",
    "classes = ('plane', 'car', 'bird', 'cat', 'deer', 'dog', 'frog', 'horse', 'ship', 'truck')"
   ]
  },
  {
   "cell_type": "code",
   "execution_count": 17,
   "metadata": {
    "ExecuteTime": {
     "end_time": "2021-07-10T23:09:59.008578Z",
     "start_time": "2021-07-10T23:09:58.994576Z"
    }
   },
   "outputs": [],
   "source": [
    "def imshow(img):\n",
    "    img = img / 2 + .5 # unnormalize\n",
    "    npimg = img.numpy()\n",
    "    plt.imshow(np.transpose(npimg, (1, 2, 0)))\n",
    "    plt.show()"
   ]
  },
  {
   "cell_type": "code",
   "execution_count": 18,
   "metadata": {
    "ExecuteTime": {
     "end_time": "2021-07-10T23:10:02.352907Z",
     "start_time": "2021-07-10T23:09:59.009577Z"
    }
   },
   "outputs": [
    {
     "ename": "TypeError",
     "evalue": "can't convert cuda:0 device type tensor to numpy. Use Tensor.cpu() to copy the tensor to host memory first.",
     "output_type": "error",
     "traceback": [
      "\u001b[1;31m---------------------------------------------------------------------------\u001b[0m",
      "\u001b[1;31mTypeError\u001b[0m                                 Traceback (most recent call last)",
      "\u001b[1;32m<ipython-input-18-0900afe623d7>\u001b[0m in \u001b[0;36m<module>\u001b[1;34m\u001b[0m\n\u001b[0;32m      4\u001b[0m \u001b[0mimages\u001b[0m\u001b[1;33m,\u001b[0m \u001b[0mlabels\u001b[0m \u001b[1;33m=\u001b[0m \u001b[0mdata\u001b[0m\u001b[1;33m[\u001b[0m\u001b[1;36m0\u001b[0m\u001b[1;33m]\u001b[0m\u001b[1;33m.\u001b[0m\u001b[0mto\u001b[0m\u001b[1;33m(\u001b[0m\u001b[0mdevice\u001b[0m\u001b[1;33m)\u001b[0m\u001b[1;33m,\u001b[0m \u001b[0mdata\u001b[0m\u001b[1;33m[\u001b[0m\u001b[1;36m1\u001b[0m\u001b[1;33m]\u001b[0m\u001b[1;33m.\u001b[0m\u001b[0mto\u001b[0m\u001b[1;33m(\u001b[0m\u001b[0mdevice\u001b[0m\u001b[1;33m)\u001b[0m\u001b[1;33m\u001b[0m\u001b[1;33m\u001b[0m\u001b[0m\n\u001b[0;32m      5\u001b[0m \u001b[1;31m# show images\u001b[0m\u001b[1;33m\u001b[0m\u001b[1;33m\u001b[0m\u001b[1;33m\u001b[0m\u001b[0m\n\u001b[1;32m----> 6\u001b[1;33m \u001b[0mimshow\u001b[0m\u001b[1;33m(\u001b[0m\u001b[0mtorchvision\u001b[0m\u001b[1;33m.\u001b[0m\u001b[0mutils\u001b[0m\u001b[1;33m.\u001b[0m\u001b[0mmake_grid\u001b[0m\u001b[1;33m(\u001b[0m\u001b[0mimages\u001b[0m\u001b[1;33m)\u001b[0m\u001b[1;33m)\u001b[0m\u001b[1;33m\u001b[0m\u001b[1;33m\u001b[0m\u001b[0m\n\u001b[0m\u001b[0;32m      7\u001b[0m \u001b[1;31m# print labels\u001b[0m\u001b[1;33m\u001b[0m\u001b[1;33m\u001b[0m\u001b[1;33m\u001b[0m\u001b[0m\n\u001b[0;32m      8\u001b[0m \u001b[0mprint\u001b[0m\u001b[1;33m(\u001b[0m\u001b[1;34m' '\u001b[0m\u001b[1;33m.\u001b[0m\u001b[0mjoin\u001b[0m\u001b[1;33m(\u001b[0m\u001b[1;34m'%5s'\u001b[0m \u001b[1;33m%\u001b[0m \u001b[0mclasses\u001b[0m\u001b[1;33m[\u001b[0m\u001b[0mlabels\u001b[0m\u001b[1;33m[\u001b[0m\u001b[0mj\u001b[0m\u001b[1;33m]\u001b[0m\u001b[1;33m]\u001b[0m \u001b[1;32mfor\u001b[0m \u001b[0mj\u001b[0m \u001b[1;32min\u001b[0m \u001b[0mrange\u001b[0m\u001b[1;33m(\u001b[0m\u001b[1;36m4\u001b[0m\u001b[1;33m)\u001b[0m\u001b[1;33m)\u001b[0m\u001b[1;33m)\u001b[0m\u001b[1;33m\u001b[0m\u001b[1;33m\u001b[0m\u001b[0m\n",
      "\u001b[1;32m<ipython-input-17-7c8518ec4cc8>\u001b[0m in \u001b[0;36mimshow\u001b[1;34m(img)\u001b[0m\n\u001b[0;32m      1\u001b[0m \u001b[1;32mdef\u001b[0m \u001b[0mimshow\u001b[0m\u001b[1;33m(\u001b[0m\u001b[0mimg\u001b[0m\u001b[1;33m)\u001b[0m\u001b[1;33m:\u001b[0m\u001b[1;33m\u001b[0m\u001b[1;33m\u001b[0m\u001b[0m\n\u001b[0;32m      2\u001b[0m     \u001b[0mimg\u001b[0m \u001b[1;33m=\u001b[0m \u001b[0mimg\u001b[0m \u001b[1;33m/\u001b[0m \u001b[1;36m2\u001b[0m \u001b[1;33m+\u001b[0m \u001b[1;36m.5\u001b[0m \u001b[1;31m# unnormalize\u001b[0m\u001b[1;33m\u001b[0m\u001b[1;33m\u001b[0m\u001b[0m\n\u001b[1;32m----> 3\u001b[1;33m     \u001b[0mnpimg\u001b[0m \u001b[1;33m=\u001b[0m \u001b[0mimg\u001b[0m\u001b[1;33m.\u001b[0m\u001b[0mnumpy\u001b[0m\u001b[1;33m(\u001b[0m\u001b[1;33m)\u001b[0m\u001b[1;33m\u001b[0m\u001b[1;33m\u001b[0m\u001b[0m\n\u001b[0m\u001b[0;32m      4\u001b[0m     \u001b[0mplt\u001b[0m\u001b[1;33m.\u001b[0m\u001b[0mimshow\u001b[0m\u001b[1;33m(\u001b[0m\u001b[0mnp\u001b[0m\u001b[1;33m.\u001b[0m\u001b[0mtranspose\u001b[0m\u001b[1;33m(\u001b[0m\u001b[0mnpimg\u001b[0m\u001b[1;33m,\u001b[0m \u001b[1;33m(\u001b[0m\u001b[1;36m1\u001b[0m\u001b[1;33m,\u001b[0m \u001b[1;36m2\u001b[0m\u001b[1;33m,\u001b[0m \u001b[1;36m0\u001b[0m\u001b[1;33m)\u001b[0m\u001b[1;33m)\u001b[0m\u001b[1;33m)\u001b[0m\u001b[1;33m\u001b[0m\u001b[1;33m\u001b[0m\u001b[0m\n\u001b[0;32m      5\u001b[0m     \u001b[0mplt\u001b[0m\u001b[1;33m.\u001b[0m\u001b[0mshow\u001b[0m\u001b[1;33m(\u001b[0m\u001b[1;33m)\u001b[0m\u001b[1;33m\u001b[0m\u001b[1;33m\u001b[0m\u001b[0m\n",
      "\u001b[1;31mTypeError\u001b[0m: can't convert cuda:0 device type tensor to numpy. Use Tensor.cpu() to copy the tensor to host memory first."
     ]
    }
   ],
   "source": [
    "# get a random training img\n",
    "dataiter = iter(trainloader)\n",
    "data = dataiter.next()\n",
    "images, labels = data[0].to(device), data[1].to(device)\n",
    "# show images\n",
    "imshow(torchvision.utils.make_grid(images))\n",
    "# print labels\n",
    "print(' '.join('%5s' % classes[labels[j]] for j in range(4)))"
   ]
  },
  {
   "cell_type": "code",
   "execution_count": null,
   "metadata": {
    "ExecuteTime": {
     "end_time": "2021-07-10T23:10:02.355905Z",
     "start_time": "2021-07-10T23:09:51.070Z"
    }
   },
   "outputs": [],
   "source": [
    "class Net(nn.Module):\n",
    "    def __init__(self):\n",
    "        super(Net, self).__init__()\n",
    "        self.conv1 = nn.Conv2d(3, 6, 5)\n",
    "        self.pool = nn.MaxPool2d(2, 2)\n",
    "        self.conv2 = nn.Conv2d(6, 16, 5)\n",
    "        self.fc1 = nn.Linear(16 * 5 * 5, 120)\n",
    "        self.fc2 = nn.Linear(120, 84)\n",
    "        self.fc3 = nn.Linear(84, 10)\n",
    "\n",
    "    def forward(self, x):\n",
    "        x = self.pool(F.relu(self.conv1(x)))\n",
    "        x = self.pool(F.relu(self.conv2(x)))\n",
    "        x = x.view(-1, 16 * 5 * 5)\n",
    "        x = F.relu(self.fc1(x))\n",
    "        x = F.relu(self.fc2(x))\n",
    "        x = self.fc3(x)\n",
    "        return x"
   ]
  },
  {
   "cell_type": "code",
   "execution_count": null,
   "metadata": {
    "ExecuteTime": {
     "end_time": "2021-07-10T23:10:02.356907Z",
     "start_time": "2021-07-10T23:09:51.071Z"
    }
   },
   "outputs": [],
   "source": [
    "net = Net()\n",
    "net.to(device)\n",
    "criterion = nn.CrossEntropyLoss()\n",
    "optimizer = optim.Adam(net.parameters(), lr=0.001)"
   ]
  },
  {
   "cell_type": "code",
   "execution_count": null,
   "metadata": {
    "ExecuteTime": {
     "end_time": "2021-07-10T23:10:02.357907Z",
     "start_time": "2021-07-10T23:09:51.072Z"
    }
   },
   "outputs": [],
   "source": [
    "running_loss = 0\n",
    "for epoch in range(2):\n",
    "    for i, data in enumerate(trainloader, 0):\n",
    "        inputs, labels = data[0].to(device), data[1].to(device)\n",
    "        optimizer.zero_grad()\n",
    "        \n",
    "        # forward, backward, optimize\n",
    "        outputs = net(inputs)\n",
    "        loss = criterion(outputs, labels)\n",
    "        loss.backward()\n",
    "        optimizer.step()\n",
    "        \n",
    "        # print stats\n",
    "        running_loss += loss.item()\n",
    "        steps = 2000\n",
    "        if i % steps == steps - 1: # print every 2000 minibatches\n",
    "            print('[%d, %5d] loss: %.3f' % (epoch + 1, i + 1, running_loss / steps))\n",
    "            running_loss = 0.\n",
    "print('finished training')"
   ]
  },
  {
   "cell_type": "code",
   "execution_count": null,
   "metadata": {
    "ExecuteTime": {
     "end_time": "2021-07-10T23:10:02.359907Z",
     "start_time": "2021-07-10T23:09:51.073Z"
    }
   },
   "outputs": [],
   "source": [
    "PATH = 'E:\\Models\\pytorch_fun\\poggers.pt'\n",
    "torch.save(net.state_dict(), PATH)"
   ]
  },
  {
   "cell_type": "code",
   "execution_count": null,
   "metadata": {
    "ExecuteTime": {
     "end_time": "2021-07-10T23:10:02.360906Z",
     "start_time": "2021-07-10T23:09:51.074Z"
    }
   },
   "outputs": [],
   "source": [
    "with torch.no_grad():\n",
    "    loss = 0\n",
    "    for data in testloader:\n",
    "        inputs, labels = data[0].to(device), data[1].to(device)"
   ]
  },
  {
   "cell_type": "code",
   "execution_count": null,
   "metadata": {
    "ExecuteTime": {
     "end_time": "2021-07-10T23:10:02.361907Z",
     "start_time": "2021-07-10T23:09:51.075Z"
    }
   },
   "outputs": [],
   "source": [
    "dataiter = iter(testloader)\n",
    "data = dataiter.next()\n",
    "inputs, labels = data[0].to(device), data[1].to(device)"
   ]
  },
  {
   "cell_type": "code",
   "execution_count": null,
   "metadata": {
    "ExecuteTime": {
     "end_time": "2021-07-10T23:10:02.362907Z",
     "start_time": "2021-07-10T23:09:51.077Z"
    }
   },
   "outputs": [],
   "source": [
    "# print images\n",
    "imshow(torchvision.utils.make_grid(images))\n",
    "print('GroundTruth: ', ' '.join('%5s' % classes[labels[j]] for j in range(4)))"
   ]
  },
  {
   "cell_type": "code",
   "execution_count": null,
   "metadata": {
    "ExecuteTime": {
     "end_time": "2021-07-10T23:10:02.363907Z",
     "start_time": "2021-07-10T23:09:51.079Z"
    }
   },
   "outputs": [],
   "source": [
    "# this part is completely unnecessary, but it shows you how to load a model\n",
    "net = Net()\n",
    "net.to(device)\n",
    "net.load_state_dict(torch.load(PATH))\n",
    "net.to(device)"
   ]
  },
  {
   "cell_type": "code",
   "execution_count": null,
   "metadata": {
    "ExecuteTime": {
     "end_time": "2021-07-10T23:10:02.364907Z",
     "start_time": "2021-07-10T23:09:51.083Z"
    }
   },
   "outputs": [],
   "source": [
    "outputs = net(images)"
   ]
  },
  {
   "cell_type": "code",
   "execution_count": null,
   "metadata": {
    "ExecuteTime": {
     "end_time": "2021-07-10T23:10:02.365907Z",
     "start_time": "2021-07-10T23:09:51.084Z"
    }
   },
   "outputs": [],
   "source": [
    "# The outputs are energies for the 10 classes. \n",
    "# The higher the energy for a class, the more the network thinks that the image is of the particular class. \n",
    "# So, let’s get the index of the highest energy\n",
    "_, predicted = torch.max(outputs, 1)\n",
    "print('Predicted: ', ' '.join('%5s' % classes[predicted[j]] for j in range(4)))"
   ]
  },
  {
   "cell_type": "code",
   "execution_count": null,
   "metadata": {
    "ExecuteTime": {
     "end_time": "2021-07-10T23:10:02.367907Z",
     "start_time": "2021-07-10T23:09:51.086Z"
    }
   },
   "outputs": [],
   "source": [
    "# now evaluate percent accuracy\n",
    "correct = 0\n",
    "total = 0\n",
    "with torch.no_grad():\n",
    "    for data in testloader:\n",
    "        inputs, labels = data[0].to(device), data[1].to(device)\n",
    "        outputs = net(images)\n",
    "        _, predicted = torch.max(outputs.data, 1)\n",
    "        total += labels.size(0)\n",
    "        correct += (predicted == labels).sum().item()\n",
    "print(f'Accuracy of the network on the {total} test images: %d %%' % (100 * correct / total))"
   ]
  },
  {
   "cell_type": "code",
   "execution_count": null,
   "metadata": {
    "ExecuteTime": {
     "end_time": "2021-07-10T23:10:02.369908Z",
     "start_time": "2021-07-10T23:09:51.088Z"
    }
   },
   "outputs": [],
   "source": [
    "class_correct = list(0. for i in range(len(classes)))\n",
    "class_total = list(0. for i in range(len(classes)))\n",
    "with torch.no_grad():\n",
    "    for data in testloader:\n",
    "        inputs, labels = data[0].to(device), data[1].to(device)\n",
    "        outputs = net(images)\n",
    "        _, predicted = torch.max(outputs, 1)\n",
    "        c = (predicted == labels).squeeze()\n",
    "        for i in range(batch_size):\n",
    "            label = labels[i]\n",
    "            class_correct[label] += c[i].item()\n",
    "            class_total[label] += 1\n",
    "            \n",
    "for i in range(len(classes)):\n",
    "    print('Accuracy of %5s : %2d %%' % (\n",
    "        classes[i], 100 * class_correct[i] / class_total[i]))"
   ]
  },
  {
   "cell_type": "code",
   "execution_count": null,
   "metadata": {},
   "outputs": [],
   "source": []
  }
 ],
 "metadata": {
  "kernelspec": {
   "display_name": "Python 3",
   "language": "python",
   "name": "python3"
  },
  "language_info": {
   "codemirror_mode": {
    "name": "ipython",
    "version": 3
   },
   "file_extension": ".py",
   "mimetype": "text/x-python",
   "name": "python",
   "nbconvert_exporter": "python",
   "pygments_lexer": "ipython3",
   "version": "3.8.8"
  },
  "toc": {
   "base_numbering": 1,
   "nav_menu": {},
   "number_sections": true,
   "sideBar": true,
   "skip_h1_title": false,
   "title_cell": "Table of Contents",
   "title_sidebar": "Contents",
   "toc_cell": false,
   "toc_position": {},
   "toc_section_display": true,
   "toc_window_display": false
  }
 },
 "nbformat": 4,
 "nbformat_minor": 4
}
