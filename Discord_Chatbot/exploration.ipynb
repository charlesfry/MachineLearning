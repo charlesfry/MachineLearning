{
 "cells": [
  {
   "cell_type": "code",
   "execution_count": 5,
   "metadata": {
    "collapsed": true,
    "pycharm": {
     "name": "#%%\n"
    }
   },
   "outputs": [],
   "source": [
    "# general imports\n",
    "import numpy as np\n",
    "import pandas as pd\n",
    "import os\n",
    "import random\n",
    "import json"
   ]
  },
  {
   "cell_type": "code",
   "execution_count": 6,
   "outputs": [],
   "source": [
    "# torch imports\n",
    "import torch\n",
    "import torch.nn as nn\n",
    "import torch.nn.parallel\n",
    "import torch.backends.cudnn as cudnn\n",
    "import torch.optim as optim\n",
    "import torch.utils.data\n",
    "import torchvision.datasets as dset\n",
    "import torchvision.transforms as transforms\n",
    "import torchvision.utils as vutils"
   ],
   "metadata": {
    "collapsed": false,
    "pycharm": {
     "name": "#%%\n"
    }
   }
  },
  {
   "cell_type": "code",
   "execution_count": 7,
   "outputs": [],
   "source": [
    "# set for reproducability\n",
    "def seed_everything(seed):\n",
    "    os.environ['PYTHONHASHSEED'] = str(seed)\n",
    "    random.seed(seed)\n",
    "    np.random.seed(seed)\n",
    "    torch.manual_seed(seed)"
   ],
   "metadata": {
    "collapsed": false,
    "pycharm": {
     "name": "#%%\n"
    }
   }
  },
  {
   "cell_type": "code",
   "execution_count": 8,
   "outputs": [],
   "source": [
    "SEED = 69\n",
    "seed_everything(SEED)\n",
    "device = torch.device(0) if torch.cuda.is_available() else 'cpu'\n",
    "ROOT_PATH = 'E:/Discord/'"
   ],
   "metadata": {
    "collapsed": false,
    "pycharm": {
     "name": "#%%\n"
    }
   }
  },
  {
   "cell_type": "code",
   "execution_count": 9,
   "outputs": [],
   "source": [
    "class JsonDataset(torch.utils.data.IterableDataset):\n",
    "    def __init__(self, files):\n",
    "        self.files = files\n",
    "\n",
    "    def __iter__(self):\n",
    "        for json_file in self.files:\n",
    "            with open(json_file, 'r', encoding='utf-8') as f:\n",
    "                pass"
   ],
   "metadata": {
    "collapsed": false,
    "pycharm": {
     "name": "#%%\n"
    }
   }
  },
  {
   "cell_type": "code",
   "execution_count": 18,
   "outputs": [
    {
     "data": {
      "text/plain": "{'id': '541016054260826127',\n 'type': 'Default',\n 'timestamp': '2019-02-01T22:04:38.928+00:00',\n 'timestampEdited': None,\n 'callEndedTimestamp': None,\n 'isPinned': False,\n 'content': \"If you think the roads are too bad, there's nothing wrong with taking a rain check and just meeting at David's tomorrow.\",\n 'author': {'id': '232150811445166080',\n  'name': 'Σκύθης',\n  'discriminator': '3644',\n  'nickname': 'Σκύθης',\n  'color': None,\n  'isBot': False,\n  'avatarUrl': 'https://cdn.discordapp.com/avatars/232150811445166080/4d2c2330b6eaa7aa7f196e48cd8dae94.png?size=40'},\n 'attachments': [],\n 'embeds': [],\n 'reactions': [],\n 'mentions': []}"
     },
     "execution_count": 18,
     "metadata": {},
     "output_type": "execute_result"
    }
   ],
   "source": [
    "# explore data\n",
    "with open('E:/Discord/DMs/Direct Messages - Private - Σκύθης [334867363755196426].json', 'r', encoding='utf-8') as f:\n",
    "    data = json.load(f)\n",
    "data = data['messages'][54]\n",
    "data"
   ],
   "metadata": {
    "collapsed": false,
    "pycharm": {
     "name": "#%%\n"
    }
   }
  },
  {
   "cell_type": "code",
   "execution_count": 8,
   "outputs": [],
   "source": [
    "# id's of some people in my messages\n",
    "my_id = '259197192496087040'\n",
    "id_dict = {\n",
    "    '259197192496087040':'cuddles',\n",
    "    '334867363755196426':'skuthes',\n",
    "    '688542990251458619':'sarah',\n",
    "    '262039783709081600':'lumis',\n",
    "    '315951640853348353':'the_moderator',\n",
    "    '820074055234224198':'rabbit',\n",
    "    '827346598660538369':'kilnard',\n",
    "    '618312371210944513':'drjeesh',\n",
    "    '534856325851512856':'daniel_kun',\n",
    "    '375858437516558346':'sage_of_ice',\n",
    "    None:'None'\n",
    "}\n",
    "id_cat_dict = {k:v for v,k in enumerate(id_dict.keys())}"
   ],
   "metadata": {
    "collapsed": false,
    "pycharm": {
     "name": "#%%\n"
    }
   }
  },
  {
   "cell_type": "code",
   "execution_count": 10,
   "outputs": [],
   "source": [
    "def get_id(message:dict, id_cat__dict=id_cat_dict):\n",
    "    k = message['id']\n",
    "    if k not in id_cat_dict: k = None\n",
    "    return id_cat_dict[k]"
   ],
   "metadata": {
    "collapsed": false,
    "pycharm": {
     "name": "#%%\n"
    }
   }
  },
  {
   "cell_type": "code",
   "execution_count": null,
   "outputs": [],
   "source": [],
   "metadata": {
    "collapsed": false,
    "pycharm": {
     "name": "#%%\n"
    }
   }
  }
 ],
 "metadata": {
  "kernelspec": {
   "name": "pycharm-563676ab",
   "language": "python",
   "display_name": "PyCharm (MachineLearning)"
  },
  "language_info": {
   "codemirror_mode": {
    "name": "ipython",
    "version": 2
   },
   "file_extension": ".py",
   "mimetype": "text/x-python",
   "name": "python",
   "nbconvert_exporter": "python",
   "pygments_lexer": "ipython2",
   "version": "2.7.6"
  }
 },
 "nbformat": 4,
 "nbformat_minor": 0
}