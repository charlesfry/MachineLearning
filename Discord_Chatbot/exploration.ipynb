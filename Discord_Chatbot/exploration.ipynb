{
 "cells": [
  {
   "cell_type": "code",
   "execution_count": 27,
   "metadata": {
    "collapsed": true,
    "pycharm": {
     "name": "#%%\n"
    }
   },
   "outputs": [],
   "source": [
    "# general imports\n",
    "import numpy as np\n",
    "import pandas as pd\n",
    "import os\n",
    "import random\n",
    "import json"
   ]
  },
  {
   "cell_type": "code",
   "execution_count": 28,
   "outputs": [],
   "source": [
    "# torch imports\n",
    "import torch\n",
    "import torch.nn as nn\n",
    "import torch.nn.parallel\n",
    "import torch.backends.cudnn as cudnn\n",
    "import torch.optim as optim\n",
    "import torch.utils.data\n",
    "from torch.utils.data import Dataset, DataLoader\n",
    "import torchvision.datasets as dset\n",
    "import torchvision.transforms as transforms\n",
    "import torchvision.utils as vutils\n",
    "from glob import glob"
   ],
   "metadata": {
    "collapsed": false,
    "pycharm": {
     "name": "#%%\n"
    }
   }
  },
  {
   "cell_type": "code",
   "execution_count": 40,
   "outputs": [],
   "source": [
    "class MessageDataset(Dataset):\n",
    "\n",
    "    def __init__(self, root_dir):\n",
    "        self.root_dir = root_dir\n",
    "        self.files = glob(root_dir + '/*.json')\n",
    "        self.messages = []\n",
    "        for file in self.files:\n",
    "            with open(file, 'r', encoding='utf-8') as f:\n",
    "                self.messages.extend([j for j in json.load(f)['messages']])\n",
    "\n",
    "    def __len__(self):\n",
    "        return len(self.messages)\n",
    "\n",
    "    def __getitem__(self, idx):\n",
    "        if torch.is_tensor(idx): idx = idx.tolist()\n",
    "\n",
    "        # convert message to something that pytorch can use\n",
    "        if type(idx) == list: return [self.messages[i] for i in idx]\n",
    "        return self.messages[idx]"
   ],
   "metadata": {
    "collapsed": false,
    "pycharm": {
     "name": "#%%\n"
    }
   }
  },
  {
   "cell_type": "code",
   "execution_count": 41,
   "outputs": [
    {
     "data": {
      "text/plain": "[{'id': '820074102106751026',\n  'type': 'Default',\n  'timestamp': '2021-03-12T23:21:42.182+00:00',\n  'timestampEdited': None,\n  'callEndedTimestamp': None,\n  'isPinned': False,\n  'content': 'At the gym',\n  'author': {'id': '259197192496087040',\n   'name': 'Cuddlesworth',\n   'discriminator': '1322',\n   'nickname': 'Cuddlesworth',\n   'color': None,\n   'isBot': False,\n   'avatarUrl': 'https://cdn.discordapp.com/avatars/259197192496087040/b59ab25a0223dcc446694fdd72d675f0.png?size=40'},\n  'attachments': [],\n  'embeds': [],\n  'reactions': [],\n  'mentions': []},\n {'id': '820074132300365896',\n  'type': 'Default',\n  'timestamp': '2021-03-12T23:21:49.381+00:00',\n  'timestampEdited': None,\n  'callEndedTimestamp': None,\n  'isPinned': False,\n  'content': 'Oh okey have fun!',\n  'author': {'id': '437644030386372611',\n   'name': 'darkrabbit97',\n   'discriminator': '1994',\n   'nickname': 'darkrabbit97',\n   'color': None,\n   'isBot': False,\n   'avatarUrl': 'https://cdn.discordapp.com/avatars/437644030386372611/e6a6eda1c354e23c41793cb8c52748c1.png?size=40'},\n  'attachments': [],\n  'embeds': [],\n  'reactions': [],\n  'mentions': []},\n {'id': '820074585457688607',\n  'type': 'Default',\n  'timestamp': '2021-03-12T23:23:37.422+00:00',\n  'timestampEdited': None,\n  'callEndedTimestamp': None,\n  'isPinned': False,\n  'content': 'You too! I wont be too long',\n  'author': {'id': '259197192496087040',\n   'name': 'Cuddlesworth',\n   'discriminator': '1322',\n   'nickname': 'Cuddlesworth',\n   'color': None,\n   'isBot': False,\n   'avatarUrl': 'https://cdn.discordapp.com/avatars/259197192496087040/b59ab25a0223dcc446694fdd72d675f0.png?size=40'},\n  'attachments': [],\n  'embeds': [],\n  'reactions': [],\n  'mentions': []}]"
     },
     "execution_count": 41,
     "metadata": {},
     "output_type": "execute_result"
    }
   ],
   "source": [
    "dms = MessageDataset('E:/Discord/DMs')\n",
    "dms[[1,2,3]]"
   ],
   "metadata": {
    "collapsed": false,
    "pycharm": {
     "name": "#%%\n"
    }
   }
  },
  {
   "cell_type": "code",
   "execution_count": null,
   "outputs": [],
   "source": [
    "# set for reproducability\n",
    "def seed_everything(seed):\n",
    "    os.environ['PYTHONHASHSEED'] = str(seed)\n",
    "    random.seed(seed)\n",
    "    np.random.seed(seed)\n",
    "    torch.manual_seed(seed)"
   ],
   "metadata": {
    "collapsed": false,
    "pycharm": {
     "name": "#%%\n"
    }
   }
  },
  {
   "cell_type": "code",
   "execution_count": null,
   "outputs": [],
   "source": [
    "SEED = 69\n",
    "seed_everything(SEED)\n",
    "device = torch.device(0) if torch.cuda.is_available() else 'cpu'\n",
    "ROOT_PATH = 'E:/Discord/'\n"
   ],
   "metadata": {
    "collapsed": false,
    "pycharm": {
     "name": "#%%\n"
    }
   }
  },
  {
   "cell_type": "code",
   "execution_count": null,
   "outputs": [],
   "source": [
    "# explore data\n",
    "with open('E:/Discord/DMs/Direct Messages - Private - Σκύθης [334867363755196426].json', 'r', encoding='utf-8') as f:\n",
    "    data = json.load(f)\n",
    "data = data['messages'][54]\n",
    "data"
   ],
   "metadata": {
    "collapsed": false,
    "pycharm": {
     "name": "#%%\n"
    }
   }
  },
  {
   "cell_type": "code",
   "execution_count": null,
   "outputs": [],
   "source": [
    "# id's of some people in my messages\n",
    "my_id = '259197192496087040'\n",
    "id_dict = {\n",
    "    '259197192496087040':'cuddles',\n",
    "    '334867363755196426':'skuthes',\n",
    "    '688542990251458619':'sarah',\n",
    "    '262039783709081600':'lumis',\n",
    "    '315951640853348353':'the_moderator',\n",
    "    '820074055234224198':'rabbit',\n",
    "    '827346598660538369':'kilnard',\n",
    "    '618312371210944513':'drjeesh',\n",
    "    '534856325851512856':'daniel_kun',\n",
    "    '375858437516558346':'sage_of_ice',\n",
    "    None:'None'\n",
    "}\n",
    "id_cat_dict = {k:v for v,k in enumerate(id_dict.keys())}"
   ],
   "metadata": {
    "collapsed": false,
    "pycharm": {
     "name": "#%%\n"
    }
   }
  },
  {
   "cell_type": "code",
   "execution_count": null,
   "outputs": [],
   "source": [
    "def get_cat_id(message:dict, id_cat_dict=id_cat_dict):\n",
    "    k = message['id']\n",
    "    if k not in id_cat_dict: k = None\n",
    "    return id_cat_dict[k]"
   ],
   "metadata": {
    "collapsed": false,
    "pycharm": {
     "name": "#%%\n"
    }
   }
  },
  {
   "cell_type": "code",
   "execution_count": null,
   "outputs": [],
   "source": [],
   "metadata": {
    "collapsed": false,
    "pycharm": {
     "name": "#%%\n"
    }
   }
  }
 ],
 "metadata": {
  "kernelspec": {
   "name": "pycharm-563676ab",
   "language": "python",
   "display_name": "PyCharm (MachineLearning)"
  },
  "language_info": {
   "codemirror_mode": {
    "name": "ipython",
    "version": 2
   },
   "file_extension": ".py",
   "mimetype": "text/x-python",
   "name": "python",
   "nbconvert_exporter": "python",
   "pygments_lexer": "ipython2",
   "version": "2.7.6"
  }
 },
 "nbformat": 4,
 "nbformat_minor": 0
}