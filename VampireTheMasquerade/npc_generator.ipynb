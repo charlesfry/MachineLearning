{
 "cells": [
  {
   "cell_type": "code",
   "execution_count": 99,
   "metadata": {
    "collapsed": true
   },
   "outputs": [],
   "source": [
    "import random\n",
    "import os\n",
    "import numpy as np\n",
    "import copy\n",
    "from time import time"
   ]
  },
  {
   "cell_type": "code",
   "execution_count": 62,
   "outputs": [],
   "source": [
    "# dont seed since we want new stuff each runthrough"
   ],
   "metadata": {
    "collapsed": false,
    "pycharm": {
     "name": "#%%\n"
    }
   }
  },
  {
   "cell_type": "code",
   "execution_count": 63,
   "outputs": [],
   "source": [
    "clans = {\n",
    "    'Banu Haqum',\n",
    "    'Brujah',\n",
    "    'Gangrel',\n",
    "    'Hecata',\n",
    "    'Lasombra',\n",
    "    'Malkavian',\n",
    "    'Ministry',\n",
    "    'Nosferatu',\n",
    "    'Ravnos',\n",
    "    'Toreador',\n",
    "    'Tremere',\n",
    "    'Tzimisce',\n",
    "    'Ventrue'\n",
    "}"
   ],
   "metadata": {
    "collapsed": false,
    "pycharm": {
     "name": "#%%\n"
    }
   }
  },
  {
   "cell_type": "code",
   "execution_count": 64,
   "outputs": [],
   "source": [
    "competency = {\n",
    "    'beginner': []\n",
    "}"
   ],
   "metadata": {
    "collapsed": false,
    "pycharm": {
     "name": "#%%\n"
    }
   }
  },
  {
   "cell_type": "code",
   "execution_count": 65,
   "outputs": [],
   "source": [
    "def roll(n:int=1):\n",
    "    return int(sum([(random.random().__round__(0)) for _ in range(n)]))"
   ],
   "metadata": {
    "collapsed": false,
    "pycharm": {
     "name": "#%%\n"
    }
   }
  },
  {
   "cell_type": "code",
   "execution_count": 89,
   "outputs": [],
   "source": [
    "class Character:\n",
    "    def __init__(self, name, atk, df, spd, hp, hunger=0):\n",
    "        self.name = name\n",
    "        self.atk = atk\n",
    "        self.df = df\n",
    "        self.spd = self.roll(spd)\n",
    "        self.total_hp = hp\n",
    "        self.hunger = hunger\n",
    "        self.dmg = 0\n",
    "        self.agg_dmg = 0\n",
    "        self.is_alive = True\n",
    "\n",
    "    @staticmethod\n",
    "    def roll(n:int=1):\n",
    "        return int(sum([(random.random().__round__(0)) for _ in range(n)]))\n",
    "\n",
    "    def attack(self, other_character):\n",
    "        if not self.is_alive or not other_character.is_alive : return\n",
    "        dmg = self.roll(self.atk) - other_character.roll(other_character.df)\n",
    "        if dmg > 0:\n",
    "            other_character.take_damage(dmg)\n",
    "        else:\n",
    "            self.take_damage(-dmg)\n",
    "\n",
    "    def take_damage(self, n, aggravated=False):\n",
    "        if aggravated:\n",
    "            self.agg_dmg += n\n",
    "        else:\n",
    "            self.dmg += n\n",
    "            if self.dmg > self.total_hp:\n",
    "                self.agg_dmg += self.dmg - self.total_hp\n",
    "                self.dmg = self.total_hp\n",
    "\n",
    "        self.is_alive = self.total_hp > self.agg_dmg\n",
    "        return self.is_alive\n",
    "\n",
    "    def reset(self):\n",
    "        self.dmg = 0\n",
    "        self.agg_dmg = 0"
   ],
   "metadata": {
    "collapsed": false,
    "pycharm": {
     "name": "#%%\n"
    }
   }
  },
  {
   "cell_type": "code",
   "execution_count": 67,
   "outputs": [],
   "source": [
    "def getspd(character:Character):\n",
    "    return -character.spd"
   ],
   "metadata": {
    "collapsed": false,
    "pycharm": {
     "name": "#%%\n"
    }
   }
  },
  {
   "cell_type": "code",
   "execution_count": 68,
   "outputs": [
    {
     "name": "stdout",
     "output_type": "stream",
     "text": [
      "[('vamp', 2), ('ww', 2)]\n"
     ]
    }
   ],
   "source": [
    "vamp = Character('vamp', 6, 4, 4, 7, 0)\n",
    "ww = Character('ww', 9, 8, 6, 10, 0)\n",
    "\n",
    "fighters = [vamp, ww]\n",
    "fighters = sorted(fighters, key=getspd)\n",
    "\n",
    "print([(f.name, f.spd) for f in fighters])"
   ],
   "metadata": {
    "collapsed": false,
    "pycharm": {
     "name": "#%%\n"
    }
   }
  },
  {
   "cell_type": "code",
   "execution_count": 68,
   "outputs": [],
   "source": [],
   "metadata": {
    "collapsed": false,
    "pycharm": {
     "name": "#%%\n"
    }
   }
  },
  {
   "cell_type": "code",
   "execution_count": 69,
   "outputs": [],
   "source": [
    "def combat(party1:list, party2:list, wins=0, counter=None):\n",
    "    if counter is None:\n",
    "        counter = dict([(c.name, 0) for c in party1])\n",
    "    party_dict = {\n",
    "        1:party1,\n",
    "        -1:party2\n",
    "    }\n",
    "\n",
    "    all_chars = sorted(party1 + party2, key=getspd)\n",
    "    all_chars = [(k, 1) if k in party1 else (k, -1) for k in all_chars]\n",
    "    while len(party1) > 0 and len(party2) > 0:\n",
    "        for char, key in all_chars:\n",
    "            if len(party1) == 0 or len(party2) == 0: break\n",
    "            assert char.is_alive, f'{char.name} is dead with hitpoints {char.total_hp - char.agg_dmg} but is still attacking'\n",
    "            attack_party = party_dict[key]\n",
    "            defend_party = party_dict[-key]\n",
    "            defender:Character = random.choice(defend_party)\n",
    "            char.attack(defender)\n",
    "            if not char.is_alive:\n",
    "                attack_party.remove(char)\n",
    "                all_chars.remove((char, key))\n",
    "            if not defender.is_alive:\n",
    "                defend_party.remove(defender)\n",
    "                all_chars.remove((defender, -key))\n",
    "\n",
    "\n",
    "    for c in party1:\n",
    "        counter[c.name] += 1\n",
    "    if len(party1) > len(party2):\n",
    "        # print('party 1 wins!')\n",
    "        # print([(f.name, f.total_hp - f.agg_dmg) for f in party1])\n",
    "        return wins + 1, counter\n",
    "    else:\n",
    "        # print('party 2 wins!')\n",
    "        # print([(f.name, f.total_hp - f.agg_dmg) for f in party2])\n",
    "        return wins, counter"
   ],
   "metadata": {
    "collapsed": false,
    "pycharm": {
     "name": "#%%\n"
    }
   }
  },
  {
   "cell_type": "code",
   "execution_count": 104,
   "outputs": [
    {
     "name": "stdout",
     "output_type": "stream",
     "text": [
      "67%\n",
      "DK:7%\n",
      "chris:58%\n",
      "rabbit:61%\n",
      "seconds elapsed: 3.1s\n"
     ]
    }
   ],
   "source": [
    "t = time()\n",
    "# party1 = [Character('DK', atk=4, df=4, spd=5, hp=7),\n",
    "#           Character('chris', atk=9, df=6, spd=4, hp=8),\n",
    "#           Character('rabbit', atk=9, df=5, spd=4, hp=10)]\n",
    "# party2 = [Character('ww', 10, 8, 6, 10)]\n",
    "counter = None\n",
    "\n",
    "num_iters = 10000\n",
    "wins = 0\n",
    "for _ in range(num_iters):\n",
    "    party1 = [Character('DK', atk=4, df=4, spd=5, hp=7),\n",
    "              Character('chris', atk=9, df=6, spd=4, hp=8),\n",
    "              Character('rabbit', atk=9, df=5, spd=4, hp=10)]\n",
    "    party2 = [Character('ww', 10, 8, 6, 10)]\n",
    "    wins, counter = combat(party1, party2, wins, counter)\n",
    "print(f'{int(100 * wins / num_iters)}%')\n",
    "for k,v in counter.items():\n",
    "    print(f'{k}:{int(100 * v / num_iters)}%')\n",
    "print(f'seconds elapsed: {(time() - t).__round__(1)}s')"
   ],
   "metadata": {
    "collapsed": false,
    "pycharm": {
     "name": "#%%\n"
    }
   }
  },
  {
   "cell_type": "code",
   "execution_count": 110,
   "outputs": [],
   "source": [
    "def pick_enemy_attributes(party:list, enemy:Character, num_iters:int=30, inner_num_iters:int=1000) -> (Character, float):\n",
    "\n",
    "    atk = enemy.atk,\n",
    "    df = enemy.df\n",
    "    hp = enemy.total_hp\n",
    "    spd = enemy.spd\n",
    "\n",
    "    vars = [atk, df, hp]\n",
    "\n",
    "    wins = 0\n",
    "    for i in range(num_iters):\n",
    "        counter = None\n",
    "        wins = 0\n",
    "        for _ in range(inner_num_iters):\n",
    "            party1 = copy.deepcopy(party)\n",
    "            party2 = [Character(enemy.name, atk, df, spd, hp, hunger=0)]\n",
    "            wins, counter = combat(party1, party2, wins, counter)\n",
    "        wins /= num_iters\n",
    "        change = 0\n",
    "        if wins < .75: change = -1\n",
    "        elif wins > .85: change = 1\n",
    "        else: return Character(enemy.name, atk, df, spd, hp, hunger=0), wins\n",
    "        v = random.choice(vars)\n",
    "        v += change\n",
    "    return Character(enemy.name, atk, df, spd, hp, hunger=0), wins"
   ],
   "metadata": {
    "collapsed": false,
    "pycharm": {
     "name": "#%%\n"
    }
   }
  },
  {
   "cell_type": "code",
   "execution_count": 111,
   "outputs": [
    {
     "ename": "TypeError",
     "evalue": "'tuple' object cannot be interpreted as an integer",
     "output_type": "error",
     "traceback": [
      "\u001B[1;31m---------------------------------------------------------------------------\u001B[0m",
      "\u001B[1;31mTypeError\u001B[0m                                 Traceback (most recent call last)",
      "\u001B[1;32m<ipython-input-111-b0ce07704bd9>\u001B[0m in \u001B[0;36m<module>\u001B[1;34m\u001B[0m\n\u001B[0;32m      5\u001B[0m \u001B[0mnum_iters\u001B[0m \u001B[1;33m=\u001B[0m \u001B[1;36m30\u001B[0m\u001B[1;33m\u001B[0m\u001B[1;33m\u001B[0m\u001B[0m\n\u001B[0;32m      6\u001B[0m \u001B[0minner_num_iters\u001B[0m \u001B[1;33m=\u001B[0m \u001B[1;36m1000\u001B[0m\u001B[1;33m\u001B[0m\u001B[1;33m\u001B[0m\u001B[0m\n\u001B[1;32m----> 7\u001B[1;33m \u001B[0mfinal_enemy\u001B[0m\u001B[1;33m,\u001B[0m \u001B[0mwins\u001B[0m \u001B[1;33m=\u001B[0m \u001B[0mpick_enemy_attributes\u001B[0m\u001B[1;33m(\u001B[0m\u001B[0mparty\u001B[0m\u001B[1;33m,\u001B[0m \u001B[0menemy\u001B[0m\u001B[1;33m,\u001B[0m \u001B[0mnum_iters\u001B[0m\u001B[1;33m,\u001B[0m \u001B[0minner_num_iters\u001B[0m\u001B[1;33m)\u001B[0m\u001B[1;33m\u001B[0m\u001B[1;33m\u001B[0m\u001B[0m\n\u001B[0m\u001B[0;32m      8\u001B[0m \u001B[0mprint\u001B[0m\u001B[1;33m(\u001B[0m\u001B[1;34mf'{(100 * wins).__round__(1)}%'\u001B[0m\u001B[1;33m)\u001B[0m\u001B[1;33m\u001B[0m\u001B[1;33m\u001B[0m\u001B[0m\n\u001B[0;32m      9\u001B[0m \u001B[0mprint\u001B[0m\u001B[1;33m(\u001B[0m\u001B[0mfinal_enemy\u001B[0m\u001B[1;33m.\u001B[0m\u001B[0mname\u001B[0m\u001B[1;33m,\u001B[0m \u001B[0mfinal_enemy\u001B[0m\u001B[1;33m.\u001B[0m\u001B[0matk\u001B[0m\u001B[1;33m,\u001B[0m \u001B[0mfinal_enemy\u001B[0m\u001B[1;33m.\u001B[0m\u001B[0mdf\u001B[0m\u001B[1;33m,\u001B[0m \u001B[0mfinal_enemy\u001B[0m\u001B[1;33m.\u001B[0m\u001B[0mspd\u001B[0m\u001B[1;33m,\u001B[0m \u001B[0mfinal_enemy\u001B[0m\u001B[1;33m.\u001B[0m\u001B[0mtotal_hp\u001B[0m\u001B[1;33m)\u001B[0m\u001B[1;33m\u001B[0m\u001B[1;33m\u001B[0m\u001B[0m\n",
      "\u001B[1;32m<ipython-input-110-6a8fef2ff801>\u001B[0m in \u001B[0;36mpick_enemy_attributes\u001B[1;34m(party, enemy, num_iters, inner_num_iters)\u001B[0m\n\u001B[0;32m     15\u001B[0m             \u001B[0mparty1\u001B[0m \u001B[1;33m=\u001B[0m \u001B[0mcopy\u001B[0m\u001B[1;33m.\u001B[0m\u001B[0mdeepcopy\u001B[0m\u001B[1;33m(\u001B[0m\u001B[0mparty\u001B[0m\u001B[1;33m)\u001B[0m\u001B[1;33m\u001B[0m\u001B[1;33m\u001B[0m\u001B[0m\n\u001B[0;32m     16\u001B[0m             \u001B[0mparty2\u001B[0m \u001B[1;33m=\u001B[0m \u001B[1;33m[\u001B[0m\u001B[0mCharacter\u001B[0m\u001B[1;33m(\u001B[0m\u001B[0menemy\u001B[0m\u001B[1;33m.\u001B[0m\u001B[0mname\u001B[0m\u001B[1;33m,\u001B[0m \u001B[0matk\u001B[0m\u001B[1;33m,\u001B[0m \u001B[0mdf\u001B[0m\u001B[1;33m,\u001B[0m \u001B[0mspd\u001B[0m\u001B[1;33m,\u001B[0m \u001B[0mhp\u001B[0m\u001B[1;33m,\u001B[0m \u001B[0mhunger\u001B[0m\u001B[1;33m=\u001B[0m\u001B[1;36m0\u001B[0m\u001B[1;33m)\u001B[0m\u001B[1;33m]\u001B[0m\u001B[1;33m\u001B[0m\u001B[1;33m\u001B[0m\u001B[0m\n\u001B[1;32m---> 17\u001B[1;33m             \u001B[0mwins\u001B[0m\u001B[1;33m,\u001B[0m \u001B[0mcounter\u001B[0m \u001B[1;33m=\u001B[0m \u001B[0mcombat\u001B[0m\u001B[1;33m(\u001B[0m\u001B[0mparty1\u001B[0m\u001B[1;33m,\u001B[0m \u001B[0mparty2\u001B[0m\u001B[1;33m,\u001B[0m \u001B[0mwins\u001B[0m\u001B[1;33m,\u001B[0m \u001B[0mcounter\u001B[0m\u001B[1;33m)\u001B[0m\u001B[1;33m\u001B[0m\u001B[1;33m\u001B[0m\u001B[0m\n\u001B[0m\u001B[0;32m     18\u001B[0m         \u001B[0mwins\u001B[0m \u001B[1;33m/=\u001B[0m \u001B[0mnum_iters\u001B[0m\u001B[1;33m\u001B[0m\u001B[1;33m\u001B[0m\u001B[0m\n\u001B[0;32m     19\u001B[0m         \u001B[0mchange\u001B[0m \u001B[1;33m=\u001B[0m \u001B[1;36m0\u001B[0m\u001B[1;33m\u001B[0m\u001B[1;33m\u001B[0m\u001B[0m\n",
      "\u001B[1;32m<ipython-input-69-bac9fb0626bc>\u001B[0m in \u001B[0;36mcombat\u001B[1;34m(party1, party2, wins, counter)\u001B[0m\n\u001B[0;32m     16\u001B[0m             \u001B[0mdefend_party\u001B[0m \u001B[1;33m=\u001B[0m \u001B[0mparty_dict\u001B[0m\u001B[1;33m[\u001B[0m\u001B[1;33m-\u001B[0m\u001B[0mkey\u001B[0m\u001B[1;33m]\u001B[0m\u001B[1;33m\u001B[0m\u001B[1;33m\u001B[0m\u001B[0m\n\u001B[0;32m     17\u001B[0m             \u001B[0mdefender\u001B[0m\u001B[1;33m:\u001B[0m\u001B[0mCharacter\u001B[0m \u001B[1;33m=\u001B[0m \u001B[0mrandom\u001B[0m\u001B[1;33m.\u001B[0m\u001B[0mchoice\u001B[0m\u001B[1;33m(\u001B[0m\u001B[0mdefend_party\u001B[0m\u001B[1;33m)\u001B[0m\u001B[1;33m\u001B[0m\u001B[1;33m\u001B[0m\u001B[0m\n\u001B[1;32m---> 18\u001B[1;33m             \u001B[0mchar\u001B[0m\u001B[1;33m.\u001B[0m\u001B[0mattack\u001B[0m\u001B[1;33m(\u001B[0m\u001B[0mdefender\u001B[0m\u001B[1;33m)\u001B[0m\u001B[1;33m\u001B[0m\u001B[1;33m\u001B[0m\u001B[0m\n\u001B[0m\u001B[0;32m     19\u001B[0m             \u001B[1;32mif\u001B[0m \u001B[1;32mnot\u001B[0m \u001B[0mchar\u001B[0m\u001B[1;33m.\u001B[0m\u001B[0mis_alive\u001B[0m\u001B[1;33m:\u001B[0m\u001B[1;33m\u001B[0m\u001B[1;33m\u001B[0m\u001B[0m\n\u001B[0;32m     20\u001B[0m                 \u001B[0mattack_party\u001B[0m\u001B[1;33m.\u001B[0m\u001B[0mremove\u001B[0m\u001B[1;33m(\u001B[0m\u001B[0mchar\u001B[0m\u001B[1;33m)\u001B[0m\u001B[1;33m\u001B[0m\u001B[1;33m\u001B[0m\u001B[0m\n",
      "\u001B[1;32m<ipython-input-89-26f2a9317386>\u001B[0m in \u001B[0;36mattack\u001B[1;34m(self, other_character)\u001B[0m\n\u001B[0;32m     17\u001B[0m     \u001B[1;32mdef\u001B[0m \u001B[0mattack\u001B[0m\u001B[1;33m(\u001B[0m\u001B[0mself\u001B[0m\u001B[1;33m,\u001B[0m \u001B[0mother_character\u001B[0m\u001B[1;33m)\u001B[0m\u001B[1;33m:\u001B[0m\u001B[1;33m\u001B[0m\u001B[1;33m\u001B[0m\u001B[0m\n\u001B[0;32m     18\u001B[0m         \u001B[1;32mif\u001B[0m \u001B[1;32mnot\u001B[0m \u001B[0mself\u001B[0m\u001B[1;33m.\u001B[0m\u001B[0mis_alive\u001B[0m \u001B[1;32mor\u001B[0m \u001B[1;32mnot\u001B[0m \u001B[0mother_character\u001B[0m\u001B[1;33m.\u001B[0m\u001B[0mis_alive\u001B[0m \u001B[1;33m:\u001B[0m \u001B[1;32mreturn\u001B[0m\u001B[1;33m\u001B[0m\u001B[1;33m\u001B[0m\u001B[0m\n\u001B[1;32m---> 19\u001B[1;33m         \u001B[0mdmg\u001B[0m \u001B[1;33m=\u001B[0m \u001B[0mself\u001B[0m\u001B[1;33m.\u001B[0m\u001B[0mroll\u001B[0m\u001B[1;33m(\u001B[0m\u001B[0mself\u001B[0m\u001B[1;33m.\u001B[0m\u001B[0matk\u001B[0m\u001B[1;33m)\u001B[0m \u001B[1;33m-\u001B[0m \u001B[0mother_character\u001B[0m\u001B[1;33m.\u001B[0m\u001B[0mroll\u001B[0m\u001B[1;33m(\u001B[0m\u001B[0mother_character\u001B[0m\u001B[1;33m.\u001B[0m\u001B[0mdf\u001B[0m\u001B[1;33m)\u001B[0m\u001B[1;33m\u001B[0m\u001B[1;33m\u001B[0m\u001B[0m\n\u001B[0m\u001B[0;32m     20\u001B[0m         \u001B[1;32mif\u001B[0m \u001B[0mdmg\u001B[0m \u001B[1;33m>\u001B[0m \u001B[1;36m0\u001B[0m\u001B[1;33m:\u001B[0m\u001B[1;33m\u001B[0m\u001B[1;33m\u001B[0m\u001B[0m\n\u001B[0;32m     21\u001B[0m             \u001B[0mother_character\u001B[0m\u001B[1;33m.\u001B[0m\u001B[0mtake_damage\u001B[0m\u001B[1;33m(\u001B[0m\u001B[0mdmg\u001B[0m\u001B[1;33m)\u001B[0m\u001B[1;33m\u001B[0m\u001B[1;33m\u001B[0m\u001B[0m\n",
      "\u001B[1;32m<ipython-input-89-26f2a9317386>\u001B[0m in \u001B[0;36mroll\u001B[1;34m(n)\u001B[0m\n\u001B[0;32m     13\u001B[0m     \u001B[1;33m@\u001B[0m\u001B[0mstaticmethod\u001B[0m\u001B[1;33m\u001B[0m\u001B[1;33m\u001B[0m\u001B[0m\n\u001B[0;32m     14\u001B[0m     \u001B[1;32mdef\u001B[0m \u001B[0mroll\u001B[0m\u001B[1;33m(\u001B[0m\u001B[0mn\u001B[0m\u001B[1;33m:\u001B[0m\u001B[0mint\u001B[0m\u001B[1;33m=\u001B[0m\u001B[1;36m1\u001B[0m\u001B[1;33m)\u001B[0m\u001B[1;33m:\u001B[0m\u001B[1;33m\u001B[0m\u001B[1;33m\u001B[0m\u001B[0m\n\u001B[1;32m---> 15\u001B[1;33m         \u001B[1;32mreturn\u001B[0m \u001B[0mint\u001B[0m\u001B[1;33m(\u001B[0m\u001B[0msum\u001B[0m\u001B[1;33m(\u001B[0m\u001B[1;33m[\u001B[0m\u001B[1;33m(\u001B[0m\u001B[0mrandom\u001B[0m\u001B[1;33m.\u001B[0m\u001B[0mrandom\u001B[0m\u001B[1;33m(\u001B[0m\u001B[1;33m)\u001B[0m\u001B[1;33m.\u001B[0m\u001B[0m__round__\u001B[0m\u001B[1;33m(\u001B[0m\u001B[1;36m0\u001B[0m\u001B[1;33m)\u001B[0m\u001B[1;33m)\u001B[0m \u001B[1;32mfor\u001B[0m \u001B[0m_\u001B[0m \u001B[1;32min\u001B[0m \u001B[0mrange\u001B[0m\u001B[1;33m(\u001B[0m\u001B[0mn\u001B[0m\u001B[1;33m)\u001B[0m\u001B[1;33m]\u001B[0m\u001B[1;33m)\u001B[0m\u001B[1;33m)\u001B[0m\u001B[1;33m\u001B[0m\u001B[1;33m\u001B[0m\u001B[0m\n\u001B[0m\u001B[0;32m     16\u001B[0m \u001B[1;33m\u001B[0m\u001B[0m\n\u001B[0;32m     17\u001B[0m     \u001B[1;32mdef\u001B[0m \u001B[0mattack\u001B[0m\u001B[1;33m(\u001B[0m\u001B[0mself\u001B[0m\u001B[1;33m,\u001B[0m \u001B[0mother_character\u001B[0m\u001B[1;33m)\u001B[0m\u001B[1;33m:\u001B[0m\u001B[1;33m\u001B[0m\u001B[1;33m\u001B[0m\u001B[0m\n",
      "\u001B[1;31mTypeError\u001B[0m: 'tuple' object cannot be interpreted as an integer"
     ]
    }
   ],
   "source": [
    "party = [Character('DK', atk=4, df=4, spd=5, hp=7),\n",
    "          Character('chris', atk=9, df=6, spd=4, hp=8),\n",
    "          Character('rabbit', atk=9, df=5, spd=4, hp=10)]\n",
    "enemy = Character('ww', 10, 8, 6, 10)\n",
    "num_iters = 30\n",
    "inner_num_iters = 1000\n",
    "final_enemy, wins = pick_enemy_attributes(party, enemy, num_iters, inner_num_iters)\n",
    "print(f'{(100 * wins).__round__(1)}%')\n",
    "print(final_enemy.name, final_enemy.atk, final_enemy.df, final_enemy.spd, final_enemy.total_hp)"
   ],
   "metadata": {
    "collapsed": false,
    "pycharm": {
     "name": "#%%\n"
    }
   }
  },
  {
   "cell_type": "code",
   "execution_count": 73,
   "outputs": [],
   "source": [
    "# party1 = np.array([\n",
    "#     Character('DK', atk=4, df=4, spd=5, hp=7),\n",
    "#     Character('chris', atk=9, df=6, spd=4, hp=8),\n",
    "#     Character('rabbit', atk=9, df=5, spd=4, hp=10)\n",
    "# ])\n",
    "# party2 = np.array([Character('ww', 10, 8, 6, 12)])\n",
    "# all_chars = sorted(np.r_[party1,party2], key=getspd)\n",
    "# counts = np.array([c.atk for c in party2])\n",
    "# counts = counts / counts.sum()"
   ],
   "metadata": {
    "collapsed": false,
    "pycharm": {
     "name": "#%%\n"
    }
   }
  },
  {
   "cell_type": "code",
   "execution_count": 74,
   "outputs": [],
   "source": [
    "# butt = {'butt', 'aids', 'poop'}\n",
    "#\n",
    "# random.sample(butt, k=1)"
   ],
   "metadata": {
    "collapsed": false,
    "pycharm": {
     "name": "#%%\n"
    }
   }
  },
  {
   "cell_type": "code",
   "execution_count": 75,
   "outputs": [],
   "source": [
    "# party1 = {'a','b','c'}\n",
    "# party2 = {'jewfag'}\n",
    "# p = party1\n",
    "# p.remove('a')\n",
    "# party1"
   ],
   "metadata": {
    "collapsed": false,
    "pycharm": {
     "name": "#%%\n"
    }
   }
  },
  {
   "cell_type": "code",
   "execution_count": 76,
   "outputs": [],
   "source": [
    "# party1 = np.array([\n",
    "#     Character('DK', atk=4, df=4, spd=5, hp=7),\n",
    "#     Character('chris', atk=9, df=6, spd=4, hp=8),\n",
    "#     Character('rabbit', atk=9, df=5, spd=4, hp=10)\n",
    "# ])\n",
    "# party2 = np.array([Character('ww', 10, 8, 6, 12)])\n",
    "# counter = None\n",
    "#\n",
    "# all_chars = dict.fromkeys(party1, 1)\n",
    "# update_dict = dict.fromkeys(party2, 2)"
   ],
   "metadata": {
    "collapsed": false,
    "pycharm": {
     "name": "#%%\n"
    }
   }
  },
  {
   "cell_type": "code",
   "execution_count": 76,
   "outputs": [],
   "source": [],
   "metadata": {
    "collapsed": false,
    "pycharm": {
     "name": "#%%\n"
    }
   }
  }
 ],
 "metadata": {
  "kernelspec": {
   "display_name": "Python 3",
   "language": "python",
   "name": "python3"
  },
  "language_info": {
   "codemirror_mode": {
    "name": "ipython",
    "version": 2
   },
   "file_extension": ".py",
   "mimetype": "text/x-python",
   "name": "python",
   "nbconvert_exporter": "python",
   "pygments_lexer": "ipython2",
   "version": "2.7.6"
  }
 },
 "nbformat": 4,
 "nbformat_minor": 0
}