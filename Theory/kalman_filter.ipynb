{
 "cells": [
  {
   "cell_type": "code",
   "execution_count": 1,
   "metadata": {},
   "outputs": [],
   "source": [
    "import numpy as np"
   ]
  },
  {
   "cell_type": "code",
   "execution_count": 2,
   "metadata": {},
   "outputs": [
    {
     "data": {
      "text/plain": [
       "array([[0.01198856],\n",
       "       [0.28742471]])"
      ]
     },
     "execution_count": 2,
     "metadata": {},
     "output_type": "execute_result"
    }
   ],
   "source": [
    "observed_np = np.random.rand(2,1)\n",
    "observed_np"
   ]
  },
  {
   "cell_type": "code",
   "execution_count": 3,
   "metadata": {},
   "outputs": [],
   "source": [
    "def K(H:np.array, P:np.array, R:np.array):\n",
    "    return P*H.T*(H*P*H.T + R)**-1"
   ]
  },
  {
   "cell_type": "code",
   "execution_count": 4,
   "metadata": {},
   "outputs": [],
   "source": [
    "def Xn(H:np.array, Xhat:np.array, K:np.array, z:np.array): # Xhat is the observed X\n",
    "    return Xhat + K * (z - H * Xhat)"
   ]
  },
  {
   "cell_type": "code",
   "execution_count": 5,
   "metadata": {},
   "outputs": [],
   "source": [
    "class P:\n",
    "    def __init__(self, A,X) -> None:\n",
    "        self.value = self.multiply(A,X)\n",
    "    def update(self, H, K):\n",
    "        self.value = self.value - K*H*self.value\n",
    "        return self.value\n",
    "    def multiply(self,A,X):\n",
    "        self.value = A*X*A.T\n",
    "        return self.value"
   ]
  },
  {
   "cell_type": "code",
   "execution_count": 6,
   "metadata": {},
   "outputs": [],
   "source": [
    "class Kalman:\n",
    "    def __init__(self, X, P0, delta) -> None:\n",
    "        self.X = X\n",
    "        self.P = P(P0)\n",
    "        self.Xpred = None\n",
    "        self.delta = delta\n",
    "    def predict(self, Fk, Bk, uk, Qk):\n",
    "        \n",
    "        return self.Xpred, self.P "
   ]
  },
  {
   "cell_type": "code",
   "execution_count": 7,
   "metadata": {},
   "outputs": [],
   "source": [
    "def create_F(delta):\n",
    "    return np.array([[1, delta], [0, 1]])\n"
   ]
  },
  {
   "cell_type": "markdown",
   "metadata": {},
   "source": [
    "# Bk is the constant that we multiply acceleration by and delta itself: [delta**2 / 2, delta]"
   ]
  },
  {
   "cell_type": "code",
   "execution_count": 8,
   "metadata": {},
   "outputs": [],
   "source": [
    "class B_vector(object):\n",
    "    def __init__(self, delta, dimensions=1) -> None:\n",
    "            self.value = np.array([delta**2/2] + ([delta] * dimensions))"
   ]
  },
  {
   "cell_type": "markdown",
   "metadata": {},
   "source": [
    "# Uk is just the acceleration vector"
   ]
  },
  {
   "cell_type": "markdown",
   "metadata": {},
   "source": [
    "# Qk is untracked noise on the covariance matrix"
   ]
  },
  {
   "cell_type": "markdown",
   "metadata": {},
   "source": [
    "# H is a matrix of sensor noise"
   ]
  },
  {
   "cell_type": "markdown",
   "metadata": {},
   "source": [
    "# Rk is the covariance of the uncertainty of a sensor reading. its mean is equal to the sensor's reading"
   ]
  },
  {
   "cell_type": "markdown",
   "metadata": {},
   "source": [
    "# for any possible reading,  we have two gaussian distributions: \n",
    "### 1: probability that our sensor reading Zk is a (mis)measurement and \n",
    "### 2: the certainty that our previous estimate thinks that Zk is the reading we should see"
   ]
  },
  {
   "cell_type": "markdown",
   "metadata": {},
   "source": [
    "# our predicted measurement (based on position and velocity) is (Mu0, Sigma0) = (Hk*Xkpred, Hk*Pk*Hk)\n",
    "# our observed measurement is (Mu1, Sigma1) = (Zk, Rk)"
   ]
  },
  {
   "cell_type": "markdown",
   "metadata": {},
   "source": [
    "# Divide by Hk (remember that K includes H, so K changes to K1) to get:\n",
    "#### K1 = Pk * Hk.T * (Hk * Pk * Hk.T + Rk)**-1\n",
    "### Xkhat = Xkpredk + K1 * (Zk - HkXpredk)\n",
    "### Pkhat = Pk - K1 * Hk * Pk"
   ]
  },
  {
   "cell_type": "markdown",
   "metadata": {},
   "source": [
    "# ^ this is the complete setup for the update step"
   ]
  },
  {
   "cell_type": "markdown",
   "metadata": {},
   "source": [
    "## forward pass"
   ]
  },
  {
   "cell_type": "code",
   "execution_count": 9,
   "metadata": {},
   "outputs": [
    {
     "data": {
      "text/plain": [
       "array([3., 6., 0., 1., 2., 0.])"
      ]
     },
     "execution_count": 9,
     "metadata": {},
     "output_type": "execute_result"
    }
   ],
   "source": [
    "position = np.array([0,0,0])\n",
    "velocity = np.array([1,2,0])\n",
    "assert len(position) == len(velocity)\n",
    "delta = 3\n",
    "# F0 = np.array([\n",
    "#     [1, 0, delta, 0],\n",
    "#     [0, 1, 0, delta],\n",
    "#     [0, 0, 1, 0],\n",
    "#     [0, 0, 0, 1]\n",
    "# ])\n",
    "dims = len(position) + len(velocity)\n",
    "F0 = np.eye((dims))\n",
    "for row in range(int(dims/2)):\n",
    "    F0[row, len(position) + row] = delta\n",
    "\n",
    "x0 = np.append(position, velocity).T\n",
    "np.matmul(F0, x0)"
   ]
  },
  {
   "cell_type": "code",
   "execution_count": 10,
   "metadata": {},
   "outputs": [],
   "source": [
    "def F_matrix(x:np.array, delta):\n",
    "    \"\"\"x is position and velocity in an n by 1 vector\"\"\"\n",
    "    dims = max(x.shape)\n",
    "    F0 = np.eye((dims))\n",
    "    for row in range(int(dims/2)):\n",
    "        F0[row, len(position) + row] = delta\n",
    "    return F0"
   ]
  },
  {
   "cell_type": "code",
   "execution_count": 11,
   "metadata": {},
   "outputs": [],
   "source": [
    "def create_x_F_P(position:list, velocity:list, delta, P0):\n",
    "    x = np.array([position + velocity])\n",
    "    F = F_matrix(x, delta)\n",
    "    P = np.matmul(F, P0, F.T)\n",
    "    return x, F, P"
   ]
  },
  {
   "cell_type": "code",
   "execution_count": 15,
   "metadata": {},
   "outputs": [],
   "source": [
    "def forward(x:np.array,F:np.array,P:np.array, H:np.array, R:np.array, z:np.array):\n",
    "    K1 = np.matmul(P, H.T, np.linalg.inv(np.matmul(H, P, H.T) + R))\n",
    "    xk = x + np.matmul(K, (z - np.matmul(H, x)))\n",
    "    Pk = P - np.matmul(K, H, P)\n",
    "    return xk, K1, Pk"
   ]
  },
  {
   "cell_type": "code",
   "execution_count": 13,
   "metadata": {},
   "outputs": [],
   "source": [
    "position = [0,0,0]\n",
    "velocity = [1,2,0]\n",
    "delta = 3\n",
    "p0 = np.eye(len(position) + len(velocity))\n",
    "x, F, P = create_x_F_P(position, velocity, delta, p0)\n",
    "forward(x,F,P)"
   ]
  },
  {
   "cell_type": "code",
   "execution_count": null,
   "metadata": {},
   "outputs": [],
   "source": [
    "\n",
    "    "
   ]
  },
  {
   "cell_type": "code",
   "execution_count": null,
   "metadata": {},
   "outputs": [],
   "source": []
  }
 ],
 "metadata": {
  "kernelspec": {
   "display_name": "Python 3.9.12 ('base')",
   "language": "python",
   "name": "python3"
  },
  "language_info": {
   "codemirror_mode": {
    "name": "ipython",
    "version": 3
   },
   "file_extension": ".py",
   "mimetype": "text/x-python",
   "name": "python",
   "nbconvert_exporter": "python",
   "pygments_lexer": "ipython3",
   "version": "3.9.12"
  },
  "orig_nbformat": 4,
  "vscode": {
   "interpreter": {
    "hash": "19d1d53a962d236aa061289c2ac16dc8e6d9648c89fe79f459ae9a3493bc67b4"
   }
  }
 },
 "nbformat": 4,
 "nbformat_minor": 2
}
