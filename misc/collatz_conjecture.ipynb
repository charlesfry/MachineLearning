{
 "cells": [
  {
   "cell_type": "code",
   "execution_count": 53,
   "metadata": {
    "collapsed": true
   },
   "outputs": [],
   "source": [
    "import numpy as np\n",
    "from typing import Union, Optional\n",
    "from tqdm import tqdm\n",
    "from time import time"
   ]
  },
  {
   "cell_type": "code",
   "execution_count": 3,
   "outputs": [],
   "source": [
    "fn = lambda x: x/2 if x % 2 == 0 else 1 + 3 * x"
   ],
   "metadata": {
    "collapsed": false,
    "pycharm": {
     "name": "#%%\n"
    }
   }
  },
  {
   "cell_type": "code",
   "execution_count": 44,
   "outputs": [],
   "source": [
    "def collatz(start:int, known_paths:set):\n",
    "    x = start\n",
    "    path = [x]\n",
    "\n",
    "    while x != 1:\n",
    "        x = fn(x)\n",
    "        # if x in known_paths:\n",
    "        #     known_paths.update(path)\n",
    "        #     return path, known_paths\n",
    "        path.append(x)\n",
    "        if len(path) > 99999: return start, known_paths\n",
    "    known_paths.update(path)\n",
    "    return path, known_paths"
   ],
   "metadata": {
    "collapsed": false,
    "pycharm": {
     "name": "#%%\n"
    }
   }
  },
  {
   "cell_type": "code",
   "execution_count": 45,
   "outputs": [],
   "source": [
    "start = 2\n",
    "known_paths = set()"
   ],
   "metadata": {
    "collapsed": false,
    "pycharm": {
     "name": "#%%\n"
    }
   }
  },
  {
   "cell_type": "code",
   "execution_count": 54,
   "outputs": [
    {
     "name": "stderr",
     "output_type": "stream",
     "text": [
      "100%|██████████| 9000000/9000000 [00:09<00:00, 991083.52it/s] "
     ]
    },
    {
     "name": "stdout",
     "output_type": "stream",
     "text": [
      "9.082993030548096\n"
     ]
    },
    {
     "name": "stderr",
     "output_type": "stream",
     "text": [
      "\n"
     ]
    }
   ],
   "source": [
    "start = 2000000\n",
    "t = time()\n",
    "for i in tqdm(range(start, start * 10, 2)):\n",
    "    path, known_paths = collatz(i, known_paths)\n",
    "    if type(path) != list:\n",
    "        print(f'disproved conjecture with {i}')\n",
    "        break\n",
    "print(time() - t)"
   ],
   "metadata": {
    "collapsed": false,
    "pycharm": {
     "name": "#%%\n"
    }
   }
  },
  {
   "cell_type": "code",
   "execution_count": 55,
   "outputs": [
    {
     "name": "stderr",
     "output_type": "stream",
     "text": [
      "100%|██████████| 9000000/9000000 [00:08<00:00, 1022495.21it/s]"
     ]
    },
    {
     "name": "stdout",
     "output_type": "stream",
     "text": [
      "8.802998065948486\n"
     ]
    },
    {
     "name": "stderr",
     "output_type": "stream",
     "text": [
      "\n"
     ]
    }
   ],
   "source": [
    "start = 2000000\n",
    "t = time()\n",
    "for i in tqdm(range(start, start * 10, 2)):\n",
    "    path, known_paths = collatz(i, known_paths)\n",
    "    if type(path) != list:\n",
    "        print(f'disproved conjecture with {i}')\n",
    "        break\n",
    "print(time() - t)"
   ],
   "metadata": {
    "collapsed": false,
    "pycharm": {
     "name": "#%%\n"
    }
   }
  },
  {
   "cell_type": "code",
   "execution_count": null,
   "outputs": [],
   "source": [],
   "metadata": {
    "collapsed": false,
    "pycharm": {
     "name": "#%%\n"
    }
   }
  }
 ],
 "metadata": {
  "kernelspec": {
   "display_name": "Python 3",
   "language": "python",
   "name": "python3"
  },
  "language_info": {
   "codemirror_mode": {
    "name": "ipython",
    "version": 2
   },
   "file_extension": ".py",
   "mimetype": "text/x-python",
   "name": "python",
   "nbconvert_exporter": "python",
   "pygments_lexer": "ipython2",
   "version": "2.7.6"
  }
 },
 "nbformat": 4,
 "nbformat_minor": 0
}