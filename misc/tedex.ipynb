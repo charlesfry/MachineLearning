{
 "cells": [
  {
   "cell_type": "code",
   "execution_count": 1,
   "metadata": {
    "collapsed": true
   },
   "outputs": [],
   "source": [
    "import numpy as np\n",
    "from scipy import stats\n",
    "from scipy.stats import norm\n",
    "import random"
   ]
  },
  {
   "cell_type": "code",
   "execution_count": 2,
   "outputs": [],
   "source": [
    "die1 = np.array([2,7,7,12,12,17])\n",
    "die2 = np.array([3,8,8,13,13,18])\n",
    "results = np.array([385,840,700,423])"
   ],
   "metadata": {
    "collapsed": false,
    "pycharm": {
     "name": "#%%\n"
    }
   }
  },
  {
   "cell_type": "code",
   "execution_count": 3,
   "outputs": [
    {
     "data": {
      "text/plain": "(400.0, 191.48542155126762)"
     },
     "execution_count": 3,
     "metadata": {},
     "output_type": "execute_result"
    }
   ],
   "source": [
    "stats.variation(die1)\n",
    "std = (die1 + die2).std() * 20\n",
    "mean = (die1 + die2).mean() * 20\n",
    "mean, std"
   ],
   "metadata": {
    "collapsed": false,
    "pycharm": {
     "name": "#%%\n"
    }
   }
  },
  {
   "cell_type": "code",
   "execution_count": 4,
   "outputs": [
    {
     "data": {
      "text/plain": "array([-0.07833495,  2.29782506,  1.5666989 ,  0.12011358])"
     },
     "execution_count": 4,
     "metadata": {},
     "output_type": "execute_result"
    }
   ],
   "source": [
    "z_scores = (results - mean) / std\n",
    "z_scores"
   ],
   "metadata": {
    "collapsed": false,
    "pycharm": {
     "name": "#%%\n"
    }
   }
  },
  {
   "cell_type": "code",
   "execution_count": 5,
   "outputs": [
    {
     "name": "stdout",
     "output_type": "stream",
     "text": [
      "[-0.07833495  2.29782506  1.5666989   0.12011358]\n",
      "[385   0   0 423]\n"
     ]
    },
    {
     "data": {
      "text/plain": "3"
     },
     "execution_count": 5,
     "metadata": {},
     "output_type": "execute_result"
    }
   ],
   "source": [
    "final = np.array(list(map(lambda x: x if abs(norm.sf((x - mean) / std)) > .1 else 0, results)))\n",
    "print(z_scores)\n",
    "print(final)\n",
    "final.argmax()"
   ],
   "metadata": {
    "collapsed": false,
    "pycharm": {
     "name": "#%%\n"
    }
   }
  },
  {
   "cell_type": "code",
   "execution_count": 6,
   "outputs": [],
   "source": [
    "class node:\n",
    "    def __init__(self):\n",
    "        self.options = ['n', 's', 'e', 'w']\n",
    "        random.shuffle(self.options)\n",
    "\n",
    "    def make_choice(self):\n",
    "        if len(self.options) == 0: return None\n",
    "        choice = self.options.pop()\n",
    "        return choice\n",
    "    def remove(self, direction):\n",
    "        self.options.remove(direction)"
   ],
   "metadata": {
    "collapsed": false,
    "pycharm": {
     "name": "#%%\n"
    }
   }
  },
  {
   "cell_type": "code",
   "execution_count": 7,
   "outputs": [],
   "source": [
    "def get_matrix(height, width):\n",
    "    original_matrix = []\n",
    "    for i in range(height):\n",
    "        original_matrix.append([node() for _ in range(width)])\n",
    "\n",
    "    for i in range(height):\n",
    "        original_matrix[i][0].options.remove('w')\n",
    "    for i in range(width):\n",
    "        original_matrix[0][i].options.remove('n')\n",
    "    for i in range(height):\n",
    "        original_matrix[i][-1].options.remove('e')\n",
    "    for i in range(width):\n",
    "        original_matrix[-1][i].options.remove('s')\n",
    "    original_matrix[0][0].options.remove('e')\n",
    "    original_matrix[0][1].options.remove('w')\n",
    "    original_matrix[0][1].options.remove('e')\n",
    "    original_matrix[0][2].options.remove('w')\n",
    "    original_matrix[-1][-1].options = []\n",
    "    return original_matrix"
   ],
   "metadata": {
    "collapsed": false,
    "pycharm": {
     "name": "#%%\n"
    }
   }
  },
  {
   "cell_type": "code",
   "execution_count": 8,
   "outputs": [],
   "source": [
    "def traverse(direction, cost:int, node1:node, node2:node):\n",
    "    if direction == 'n':\n",
    "        cost /= 2\n",
    "        node2.options.remove('s')\n",
    "        return cost\n",
    "    if direction == 's':\n",
    "        cost *= 2\n",
    "        node2.options.remove('n')\n",
    "        return cost\n",
    "    if direction == 'e':\n",
    "        cost += 2\n",
    "        node2.options.remove('w')\n",
    "        return cost\n",
    "    if direction == 'w':\n",
    "        cost -= 2\n",
    "        node2.options.remove('e')\n",
    "        return cost"
   ],
   "metadata": {
    "collapsed": false,
    "pycharm": {
     "name": "#%%\n"
    }
   }
  },
  {
   "cell_type": "code",
   "execution_count": 9,
   "outputs": [],
   "source": [
    "starting_point = 0,2\n",
    "num_iters = 0\n",
    "height, width = 5, 5"
   ],
   "metadata": {
    "collapsed": false,
    "pycharm": {
     "name": "#%%\n"
    }
   }
  },
  {
   "cell_type": "code",
   "execution_count": 10,
   "outputs": [],
   "source": [
    "def wander(starting_height=0, starting_width=2, cost=4, total_height=5, total_width=5):\n",
    "    matrix = get_matrix(total_height, total_width)\n",
    "    height, width = starting_height, starting_width\n",
    "    node1 = matrix[starting_height][starting_width]\n",
    "    path = []\n",
    "    cost = 4\n",
    "    num_iters = 0\n",
    "    while height < total_height - 1 and width < total_width - 1 and len(node1.options) > 0:\n",
    "        num_iters += 1\n",
    "        if len(node1.options) == 0: break\n",
    "        direction = node1.options.pop()\n",
    "        path.append(direction)\n",
    "        if direction == 'n': height -= 1\n",
    "        if direction == 's': height += 1\n",
    "        if direction == 'e': width += 1\n",
    "        if direction == 'w': width -= 1\n",
    "        node2 = matrix[height][width]\n",
    "        cost = traverse(direction=direction, cost=cost, node1=node1, node2=node2)\n",
    "        node1 = node2\n",
    "    if cost > 0: return None\n",
    "    if height != total_height - 1: return None\n",
    "    if width != total_width - 1: return None\n",
    "    if cost < 0: print(f'error: cost is {cost} at path {path}')\n",
    "    return path"
   ],
   "metadata": {
    "collapsed": false,
    "pycharm": {
     "name": "#%%\n"
    }
   }
  },
  {
   "cell_type": "code",
   "execution_count": 11,
   "outputs": [],
   "source": [
    "def go_wander():\n",
    "    path = None\n",
    "    while num_iters < 9999999999 and path is None:\n",
    "        path = wander()\n",
    "    if path is None: print('did not find answer')\n",
    "    else:\n",
    "        print('answer:')\n",
    "        print(path)"
   ],
   "metadata": {
    "collapsed": false,
    "pycharm": {
     "name": "#%%\n"
    }
   }
  },
  {
   "cell_type": "code",
   "execution_count": 20,
   "outputs": [
    {
     "name": "stdout",
     "output_type": "stream",
     "text": [
      "101101\n",
      "102102\n",
      "103103\n",
      "104104\n",
      "105105\n",
      "106106\n",
      "107107\n",
      "108108\n",
      "109109\n",
      "110110\n",
      "111111\n",
      "112112\n",
      "113113\n",
      "114114\n",
      "115115\n",
      "116116\n",
      "117117\n",
      "118118\n",
      "119119\n",
      "120120\n",
      "121121\n",
      "122122\n",
      "123123\n",
      "124124\n",
      "125125\n",
      "126126\n",
      "127127\n",
      "128128\n",
      "129129\n",
      "130130\n",
      "131131\n",
      "132132\n",
      "133133\n",
      "134134\n",
      "135135\n",
      "136136\n",
      "137137\n",
      "138138\n",
      "139139\n",
      "140140\n",
      "141141\n",
      "142142\n",
      "143143\n",
      "144144\n",
      "145145\n",
      "146146\n",
      "147147\n",
      "148148\n",
      "149149\n",
      "150150\n",
      "151151\n",
      "152152\n",
      "153153\n",
      "154154\n",
      "155155\n",
      "156156\n",
      "157157\n",
      "158158\n",
      "159159\n",
      "160160\n",
      "161161\n",
      "162162\n",
      "163163\n",
      "164164\n",
      "165165\n",
      "166166\n",
      "167167\n",
      "168168\n",
      "169169\n",
      "170170\n",
      "171171\n",
      "172172\n",
      "173173\n",
      "174174\n",
      "175175\n",
      "176176\n",
      "177177\n",
      "178178\n",
      "179179\n",
      "180180\n",
      "181181\n",
      "182182\n",
      "183183\n",
      "184184\n",
      "185185\n",
      "186186\n",
      "187187\n",
      "188188\n",
      "189189\n",
      "190190\n",
      "191191\n",
      "192192\n",
      "193193\n",
      "194194\n",
      "195195\n",
      "196196\n",
      "197197\n",
      "198198\n",
      "199199\n",
      "200200\n"
     ]
    }
   ],
   "source": [
    "for i in range(101,201):\n",
    "    print(i * 7 * 11 * 13)"
   ],
   "metadata": {
    "collapsed": false,
    "pycharm": {
     "name": "#%%\n"
    }
   }
  },
  {
   "cell_type": "code",
   "execution_count": null,
   "outputs": [],
   "source": [],
   "metadata": {
    "collapsed": false,
    "pycharm": {
     "name": "#%%\n"
    }
   }
  }
 ],
 "metadata": {
  "kernelspec": {
   "name": "pycharm-563676ab",
   "language": "python",
   "display_name": "PyCharm (MachineLearning)"
  },
  "language_info": {
   "codemirror_mode": {
    "name": "ipython",
    "version": 2
   },
   "file_extension": ".py",
   "mimetype": "text/x-python",
   "name": "python",
   "nbconvert_exporter": "python",
   "pygments_lexer": "ipython2",
   "version": "2.7.6"
  }
 },
 "nbformat": 4,
 "nbformat_minor": 0
}